{
 "cells": [
  {
   "cell_type": "code",
   "execution_count": 1,
   "metadata": {},
   "outputs": [],
   "source": [
    "from main import FingerMatch\n",
    "import os\n",
    "import cv2\n",
    "import sys\n",
    "import math\n",
    "import warnings\n",
    "import numpy as np\n",
    "from zipfile import ZipFile\n",
    "\n",
    "import pandas as pd\n",
    "\n",
    "#import gdal\n",
    "from sklearn.decomposition import PCA\n",
    "\n",
    "import matplotlib.pyplot as plt\n",
    "\n",
    "from jupyterthemes import jtplot\n",
    "jtplot.style()\n",
    "\n",
    "from scipy import ndimage as ndi\n",
    "from skimage import feature\n",
    "\n",
    "from PIL import Image\n",
    "from IPython.display import display\n",
    "\n",
    "from libs.enhancing import *\n",
    "from libs.basics import *\n",
    "from libs.processing import *\n",
    "\n",
    "if not sys.warnoptions:\n",
    "    warnings.simplefilter(\"ignore\")\n",
    "\n",
    "%matplotlib inline"
   ]
  },
  {
   "cell_type": "code",
   "execution_count": 2,
   "metadata": {},
   "outputs": [],
   "source": [
    "# Revert gray colour levels. Match scale with the raw image for comparison.\n",
    "path_train = '/home/tan/Documents/PythonProjects/AI/FingerMatch-20220508T085804Z-001/FingerMatch/data/Fingerprints - Set A/101_1.tif'\n",
    "path_test = '/home/tan/Documents/PythonProjects/AI/FingerMatch-20220508T085804Z-001/FingerMatch/data/Fingerprints - Set B/101_1.tif'\n",
    "\n",
    "# Image loading\n",
    "img_train = load_image(path_train, True)\n",
    "img_test = load_image(path_test, True)"
   ]
  },
  {
   "cell_type": "code",
   "execution_count": 3,
   "metadata": {},
   "outputs": [
    {
     "name": "stdout",
     "output_type": "stream",
     "text": [
      "\n",
      "INFO: Dataset loaded successfully. Duration: 0.03 sec\n",
      "INFO: Loading model features. Model: tree\n",
      "INFO: Training completed in 394.58 sec\n"
     ]
    }
   ],
   "source": [
    "path = '/home/tan/Documents/PythonProjects/AI/FingerMatch-20220508T085804Z-001/FingerMatch/data/Fingerprints - Set A'\n",
    "\n",
    "fm = FingerMatch('tree',)\n",
    "fm.loadData(path)\n",
    "fm.trainData()\n",
    "# scores = fm.matchFingerprint(img_train, verbose=False, )"
   ]
  },
  {
   "cell_type": "code",
   "execution_count": 4,
   "metadata": {},
   "outputs": [
    {
     "data": {
      "text/plain": [
       "dict_keys([])"
      ]
     },
     "execution_count": 4,
     "metadata": {},
     "output_type": "execute_result"
    }
   ],
   "source": [
    "fm.images[0].profile.keys()"
   ]
  },
  {
   "cell_type": "code",
   "execution_count": 8,
   "metadata": {},
   "outputs": [],
   "source": [
    "# fm.save_as_pickle()"
   ]
  },
  {
   "cell_type": "code",
   "execution_count": 3,
   "metadata": {},
   "outputs": [],
   "source": [
    "from libs.minutiae import *\n",
    "fm = FingerMatch('tree',)\n",
    "fm.load_from_pickle()\n"
   ]
  },
  {
   "cell_type": "code",
   "execution_count": 6,
   "metadata": {},
   "outputs": [
    {
     "data": {
      "text/plain": [
       "{(27,\n",
       "  201): array([[ 2.39,  2.48,  2.57,  2.74,  1.04,  1.08,  1.15,  1.03,  1.1 ,\n",
       "          1.07],\n",
       "        [38.28, 24.85, 26.48, 80.17, 13.43, 11.8 , 41.89,  1.63, 55.32,\n",
       "         53.69]]),\n",
       " (54,\n",
       "  45): array([[ 8.86, 15.66, 15.89, 16.33,  1.77,  1.79,  1.84,  1.01,  1.04,\n",
       "          1.03],\n",
       "        [73.61, 16.7 , 12.72, 11.48, 56.91, 60.89, 62.13,  3.97,  5.22,\n",
       "          1.24]]),\n",
       " (64,\n",
       "  79): array([[  1.03,   1.52,   1.6 ,   1.61,   1.48,   1.56,   1.57,   1.05,\n",
       "           1.06,   1.01],\n",
       "        [  6.38,  82.26, 134.57,  78.97,  88.64, 128.19,  85.35, 143.16,\n",
       "           3.29, 146.45]]),\n",
       " (75,\n",
       "  154): array([[  1.07,   2.26,   3.17,   3.38,   2.12,   2.97,   3.17,   1.4 ,\n",
       "           1.5 ,   1.07],\n",
       "        [ 10.9 ,  61.15,  82.84,  22.85,  72.05,  71.93,  11.95, 143.98,\n",
       "          84.  ,  59.98]]),\n",
       " (82,\n",
       "  265): array([[  1.8 ,   5.13,   9.03,   9.09,   2.84,   5.01,   5.04,   1.76,\n",
       "           1.77,   1.01],\n",
       "        [ 33.69, 135.  , 158.05, 161.56, 101.31, 168.26, 127.88,  66.95,\n",
       "          26.57,  40.38]]),\n",
       " (82,\n",
       "  273): array([[  1.12,   5.88,   9.96,  10.05,   5.26,   8.91,   8.98,   1.7 ,\n",
       "           1.71,   1.01],\n",
       "        [116.57,  38.09,  19.8 ,  16.63,  78.48, 136.36,  99.93,  57.89,\n",
       "          21.46,  36.43]]),\n",
       " (90,\n",
       "  277): array([[ 1.61,  5.15,  9.21,  9.66,  3.19,  5.71,  5.99,  1.79,  1.88,\n",
       "          1.05],\n",
       "        [29.74, 90.56, 73.93, 39.54, 60.81, 44.18,  9.79, 16.63, 51.02,\n",
       "         34.39]]),\n",
       " (105,\n",
       "  137): array([[  1.  ,   1.08,   1.08,   1.12,   1.07,   1.08,   1.12,   1.  ,\n",
       "           1.04,   1.04],\n",
       "        [ 19.68,  19.83,  15.9 , 102.41,   0.14,   3.78, 122.09,   3.93,\n",
       "         122.24, 118.31]]),\n",
       " (111,\n",
       "  236): array([[  1.01,   1.14,   1.16,   1.67,   1.12,   1.15,   1.65,   1.02,\n",
       "           1.47,   1.44],\n",
       "        [126.47, 144.35, 133.38,  47.31,  17.88,   6.91,  79.16,  10.97,\n",
       "          97.04,  86.07]]),\n",
       " (116,\n",
       "  59): array([[  2.  ,  10.2 ,  24.92,  26.68,   5.1 ,  12.46,  13.34,   2.44,\n",
       "           2.62,   1.07],\n",
       "        [143.13,  48.18, 174.47, 139.86, 168.69,  42.4 ,  77.01, 126.29,\n",
       "          91.68,  34.61]]),\n",
       " (118,\n",
       "  58): array([[  2.86,   9.56,  25.91,  27.46,   3.34,   9.05,   9.59,   2.71,\n",
       "           2.87,   1.06],\n",
       "        [ 24.78, 127.35,   5.31,  38.79, 152.12,  30.09,  63.57, 122.03,\n",
       "          88.56,  33.48]]),\n",
       " (122,\n",
       "  37): array([[  1.07,   1.27,   2.9 ,   3.02,   1.19,   2.72,   2.83,   2.28,\n",
       "           2.37,   1.04],\n",
       "        [  4.47,   6.32,  80.01,  72.09,   1.85,  84.48,  67.62,  86.33,\n",
       "          65.77, 152.1 ]]),\n",
       " (140,\n",
       "  145): array([[  3.49,   3.58,   4.12,   4.56,   1.02,   1.18,   1.31,   1.15,\n",
       "           1.27,   1.11],\n",
       "        [166.76,  26.57, 157.17, 142.12, 140.19,   9.59,  51.12, 130.6 ,\n",
       "         168.69,  60.71]]),\n",
       " (173,\n",
       "  91): array([[  1.05,   1.37,   1.82,   1.86,   1.31,   1.74,   1.78,   1.32,\n",
       "           1.36,   1.03],\n",
       "        [160.95, 175.52, 167.5 , 152.65,  23.53,  31.55,  46.4 ,   8.02,\n",
       "          22.86,  14.84]]),\n",
       " (216,\n",
       "  168): array([[  1.31,   1.71,   2.83,   3.02,   1.3 ,   2.16,   2.3 ,   1.65,\n",
       "           1.76,   1.07],\n",
       "        [ 78.3 , 132.08, 175.23,  29.12,  53.77, 106.46,  49.18,  52.69,\n",
       "         102.95, 155.64]]),\n",
       " (216,\n",
       "  261): array([[ 1.77,  2.54,  3.24,  3.65,  1.44,  1.83,  2.06,  1.28,  1.44,\n",
       "          1.13],\n",
       "        [21.33,  1.91, 61.84, 39.78, 19.42, 40.51, 18.45, 59.93, 37.87,\n",
       "         22.06]]),\n",
       " (223,\n",
       "  54): array([[  1.56,   1.77,   2.54,   3.45,   1.13,   1.63,   2.21,   1.44,\n",
       "           1.95,   1.36],\n",
       "        [ 31.11, 174.86, 155.27, 134.71, 143.75, 173.62, 165.82,  29.87,\n",
       "          50.43,  20.56]]),\n",
       " (231,\n",
       "  182): array([[  1.48,   2.2 ,   2.43,   2.5 ,   1.49,   1.64,   1.69,   1.11,\n",
       "           1.13,   1.03],\n",
       "        [ 60.27, 138.1 , 165.76,  30.62,  77.84, 105.49,  29.65,  27.66,\n",
       "         107.49, 135.14]]),\n",
       " (233,\n",
       "  247): array([[  1.1 ,   1.69,   3.18,   3.24,   1.54,   2.91,   2.95,   1.88,\n",
       "           1.91,   1.02],\n",
       "        [135.18,  41.68,  34.68,   7.47, 176.86, 100.5 , 127.71,  76.35,\n",
       "          49.15,  27.21]]),\n",
       " (235,\n",
       "  227): array([[  1.15,   1.94,   2.25,   2.43,   1.68,   1.95,   2.11,   1.16,\n",
       "           1.25,   1.08],\n",
       "        [103.14,  23.49, 169.21, 131.78, 126.63,  87.65, 125.08, 145.72,\n",
       "         108.29,  37.43]]),\n",
       " (247,\n",
       "  49): array([[  1.15,   3.17,   3.98,   4.83,   2.76,   3.47,   4.21,   1.26,\n",
       "           1.53,   1.21],\n",
       "        [112.55, 109.27, 130.36, 148.14,   3.28,  17.81,  35.59,  21.09,\n",
       "          38.86,  17.78]]),\n",
       " (251,\n",
       "  28): array([[ 1.79,  3.62,  4.69,  5.71,  2.03,  2.62,  3.19,  1.29,  1.57,\n",
       "          1.22],\n",
       "        [36.34, 55.63, 40.29, 26.56, 19.29,  3.95,  9.78, 15.34, 29.07,\n",
       "         13.73]]),\n",
       " (258,\n",
       "  224): array([[ 1.46,  2.15,  2.41,  2.8 ,  1.47,  1.65,  1.91,  1.12,  1.3 ,\n",
       "          1.16],\n",
       "        [35.18, 64.7 , 33.95, 37.94, 99.88,  1.23, 73.12, 98.64, 26.75,\n",
       "         71.89]]),\n",
       " (32,\n",
       "  124): array([[ 1.05,  1.29,  1.31,  1.41,  1.23,  1.24,  1.34,  1.01,  1.1 ,\n",
       "          1.08],\n",
       "        [89.49,  0.74,  1.8 , 24.8 , 88.74, 91.29, 64.68,  2.54, 24.06,\n",
       "         26.61]]),\n",
       " (55,\n",
       "  198): array([[  1.63,   1.72,   1.73,   1.78,   1.05,   1.06,   1.09,   1.01,\n",
       "           1.04,   1.02],\n",
       "        [140.23, 120.56, 138.63, 176.18,  19.67,   1.61,  43.59,  18.07,\n",
       "          63.27,  45.2 ]]),\n",
       " (58,\n",
       "  45): array([[  8.63,  14.71,  14.92,  15.35,   1.7 ,   1.73,   1.78,   1.01,\n",
       "           1.04,   1.03],\n",
       "        [100.01, 162.18, 166.43, 167.77,  62.17,  66.42,  67.77,   4.25,\n",
       "           5.59,   1.35]]),\n",
       " (87,\n",
       "  165): array([[  5.15,  10.53,  11.34,  14.54,   2.04,   2.2 ,   2.82,   1.08,\n",
       "           1.38,   1.28],\n",
       "        [ 65.92,  14.3 , 131.42, 154.32,  80.22, 162.65,  88.39, 117.12,\n",
       "         168.62,  74.26]]),\n",
       " (88,\n",
       "  162): array([[  4.83,   9.56,  12.02,  14.1 ,   1.98,   2.49,   2.92,   1.26,\n",
       "           1.48,   1.17],\n",
       "        [103.17, 164.22,  45.  , 128.09,  92.61, 148.17, 128.74, 119.22,\n",
       "          36.13,  83.09]]),\n",
       " (105,\n",
       "  196): array([[  1.06,   1.13,   1.4 ,   1.44,   1.06,   1.32,   1.36,   1.24,\n",
       "           1.28,   1.03],\n",
       "        [  3.58, 158.39,  62.15,   5.4 , 161.97,  65.73,   8.97,  96.24,\n",
       "         152.99,  56.75]]),\n",
       " (114,\n",
       "  63): array([[  1.43,   6.08,  11.74,  13.15,   4.25,   8.2 ,   9.19,   1.93,\n",
       "           2.16,   1.12],\n",
       "        [ 12.09,   9.46, 134.31,  98.75,  21.56, 146.4 , 110.84, 124.85,\n",
       "          89.28,  35.56]]),\n",
       " (130,\n",
       "  147): array([[ 1.14,  1.22,  1.26,  1.49,  1.07,  1.11,  1.31,  1.04,  1.22,\n",
       "          1.18],\n",
       "        [17.22,  5.78, 48.95, 55.49, 11.43, 66.16, 72.71, 54.73, 61.27,\n",
       "          6.55]]),\n",
       " (132,\n",
       "  138): array([[  1.41,   4.61,   5.32,   6.4 ,   3.26,   3.76,   4.53,   1.15,\n",
       "           1.39,   1.2 ],\n",
       "        [ 45.  , 102.53,  41.19,  38.66,  57.53,   3.81,   6.34,  61.34,\n",
       "          63.87,   2.53]]),\n",
       " (134,\n",
       "  138): array([[  1.  ,   4.61,   4.92,   5.66,   4.61,   4.92,   5.66,   1.07,\n",
       "           1.23,   1.15],\n",
       "        [  0.  , 130.6 ,  66.04, 135.  , 130.6 ,  66.04, 135.  ,  64.56,\n",
       "           4.4 ,  68.96]]),\n",
       " (134,\n",
       "  140): array([[  1.41,   3.91,   4.03,   5.  ,   2.76,   2.85,   3.54,   1.03,\n",
       "           1.28,   1.24],\n",
       "        [ 45.  , 129.81, 150.26, 126.87, 174.81, 105.26, 171.87,  79.94,\n",
       "           2.94,  82.87]]),\n",
       " (142,\n",
       "  146): array([[  2.72,   4.47,   5.06,   5.39,   1.64,   1.86,   1.98,   1.13,\n",
       "           1.2 ,   1.06],\n",
       "        [143.97,  10.3 ,  18.44,  31.33, 133.67, 125.54, 175.3 ,   8.13,\n",
       "          41.63,  49.76]]),\n",
       " (148,\n",
       "  145): array([[  1.32,   2.44,   2.57,   2.68,   1.86,   1.96,   2.03,   1.05,\n",
       "           1.1 ,   1.04],\n",
       "        [  9.46,  29.12,  36.03, 146.95,  19.65,  26.57, 137.49,   6.91,\n",
       "         117.84, 110.92]]),\n",
       " (160,\n",
       "  134): array([[  1.18,   1.33,   1.4 ,   1.62,   1.12,   1.19,   1.37,   1.06,\n",
       "           1.22,   1.15],\n",
       "        [165.39,   8.82,  13.7 ,  33.76, 174.21, 179.09, 160.85,   4.88,\n",
       "          24.94,  20.06]]),\n",
       " (177,\n",
       "  125): array([[  1.78,   1.83,   2.12,   2.19,   1.03,   1.19,   1.23,   1.16,\n",
       "           1.19,   1.03],\n",
       "        [111.19,   6.69,   3.07,   0.49, 117.88, 114.25, 111.68,   3.63,\n",
       "           6.2 ,   2.57]]),\n",
       " (180,\n",
       "  59): array([[  1.32,   1.89,   1.89,   1.95,   1.43,   1.43,   1.48,   1.  ,\n",
       "           1.03,   1.03],\n",
       "        [108.97,  78.58,  98.43,  77.66, 172.44, 152.6 , 173.37,  19.85,\n",
       "           0.92,  20.77]]),\n",
       " (181,\n",
       "  171): array([[  1.21,   1.45,   1.47,   1.59,   1.2 ,   1.21,   1.31,   1.01,\n",
       "           1.1 ,   1.09],\n",
       "        [ 48.5 , 174.63, 163.18, 138.57, 136.87, 114.68,  90.07,  22.19,\n",
       "          46.8 ,  24.61]]),\n",
       " (202,\n",
       "  191): array([[  1.08,   1.13,   1.81,   2.38,   1.05,   1.68,   2.21,   1.61,\n",
       "           2.11,   1.31],\n",
       "        [ 77.73,  41.43, 106.16, 119.7 , 119.16, 176.11, 162.57,  64.73,\n",
       "          78.27,  13.54]])}"
      ]
     },
     "execution_count": 6,
     "metadata": {},
     "output_type": "execute_result"
    }
   ],
   "source": [
    "fm.images[0].profile\n",
    "# display_image(fm.images[0].image_enhanced)\n",
    "# plot_minutiae(fm.images[0].image_enhanced, fm.images[0].minutiae, size = 8)"
   ]
  },
  {
   "cell_type": "code",
   "execution_count": 5,
   "metadata": {},
   "outputs": [
    {
     "name": "stdout",
     "output_type": "stream",
     "text": [
      "Termination: 15, 153\n"
     ]
    },
    {
     "data": {
      "image/png": "[encoded data removed]",
      "text/plain": [
       "<Figure size 432x288 with 1 Axes>"
      ]
     },
     "metadata": {},
     "output_type": "display_data"
    },
    {
     "name": "stdout",
     "output_type": "stream",
     "text": [
      "Termination: 16, 160\n"
     ]
    },
    {
     "data": {
      "image/png": "[encoded data removed]",
      "text/plain": [
       "<Figure size 432x288 with 1 Axes>"
      ]
     },
     "metadata": {},
     "output_type": "display_data"
    },
    {
     "name": "stdout",
     "output_type": "stream",
     "text": [
      "Termination: 20, 110\n"
     ]
    },
    {
     "data": {
      "image/png": "[encoded data removed]",
      "text/plain": [
       "<Figure size 432x288 with 1 Axes>"
      ]
     },
     "metadata": {},
     "output_type": "display_data"
    },
    {
     "name": "stdout",
     "output_type": "stream",
     "text": [
      "Termination: 22, 100\n"
     ]
    },
    {
     "data": {
      "image/png": "[encoded data removed]",
      "text/plain": [
       "<Figure size 432x288 with 1 Axes>"
      ]
     },
     "metadata": {},
     "output_type": "display_data"
    },
    {
     "name": "stdout",
     "output_type": "stream",
     "text": [
      "Termination: 23, 108\n"
     ]
    },
    {
     "data": {
      "image/png": "[encoded data removed]",
      "text/plain": [
       "<Figure size 432x288 with 1 Axes>"
      ]
     },
     "metadata": {},
     "output_type": "display_data"
    },
    {
     "name": "stdout",
     "output_type": "stream",
     "text": [
      "Termination: 23, 161\n"
     ]
    },
    {
     "data": {
      "image/png": "[encoded data removed]",
      "text/plain": [
       "<Figure size 432x288 with 1 Axes>"
      ]
     },
     "metadata": {},
     "output_type": "display_data"
    },
    {
     "name": "stdout",
     "output_type": "stream",
     "text": [
      "Termination: 25, 96\n"
     ]
    },
    {
     "data": {
      "image/png": "[encoded data removed]",
      "text/plain": [
       "<Figure size 432x288 with 1 Axes>"
      ]
     },
     "metadata": {},
     "output_type": "display_data"
    },
    {
     "name": "stdout",
     "output_type": "stream",
     "text": [
      "Termination: 26, 89\n"
     ]
    },
    {
     "data": {
      "image/png": "[encoded data removed]",
      "text/plain": [
       "<Figure size 432x288 with 1 Axes>"
      ]
     },
     "metadata": {},
     "output_type": "display_data"
    },
    {
     "name": "stdout",
     "output_type": "stream",
     "text": [
      "Termination: 27, 171\n"
     ]
    },
    {
     "data": {
      "image/png": "[encoded data removed]",
      "text/plain": [
       "<Figure size 432x288 with 1 Axes>"
      ]
     },
     "metadata": {},
     "output_type": "display_data"
    },
    {
     "name": "stdout",
     "output_type": "stream",
     "text": [
      "Termination: 34, 80\n"
     ]
    },
    {
     "data": {
      "image/png": "[encoded data removed]",
      "text/plain": [
       "<Figure size 432x288 with 1 Axes>"
      ]
     },
     "metadata": {},
     "output_type": "display_data"
    },
    {
     "name": "stdout",
     "output_type": "stream",
     "text": [
      "Termination: 37, 182\n"
     ]
    },
    {
     "data": {
      "image/png": "[encoded data removed]",
      "text/plain": [
       "<Figure size 432x288 with 1 Axes>"
      ]
     },
     "metadata": {},
     "output_type": "display_data"
    },
    {
     "name": "stdout",
     "output_type": "stream",
     "text": [
      "Termination: 43, 75\n"
     ]
    },
    {
     "data": {
      "image/png": "[encoded data removed]",
      "text/plain": [
       "<Figure size 432x288 with 1 Axes>"
      ]
     },
     "metadata": {},
     "output_type": "display_data"
    },
    {
     "name": "stdout",
     "output_type": "stream",
     "text": [
      "Termination: 46, 186\n"
     ]
    },
    {
     "data": {
      "image/png": "[encoded data removed]",
      "text/plain": [
       "<Figure size 432x288 with 1 Axes>"
      ]
     },
     "metadata": {},
     "output_type": "display_data"
    },
    {
     "name": "stdout",
     "output_type": "stream",
     "text": [
      "Termination: 52, 70\n"
     ]
    },
    {
     "data": {
      "image/png": "[encoded data removed]",
      "text/plain": [
       "<Figure size 432x288 with 1 Axes>"
      ]
     },
     "metadata": {},
     "output_type": "display_data"
    },
    {
     "name": "stdout",
     "output_type": "stream",
     "text": [
      "Termination: 52, 178\n"
     ]
    },
    {
     "data": {
      "image/png": "[encoded data removed]",
      "text/plain": [
       "<Figure size 432x288 with 1 Axes>"
      ]
     },
     "metadata": {},
     "output_type": "display_data"
    },
    {
     "name": "stdout",
     "output_type": "stream",
     "text": [
      "Termination: 52, 190\n"
     ]
    },
    {
     "data": {
      "image/png": "[encoded data removed]",
      "text/plain": [
       "<Figure size 432x288 with 1 Axes>"
      ]
     },
     "metadata": {},
     "output_type": "display_data"
    },
    {
     "name": "stdout",
     "output_type": "stream",
     "text": [
      "Termination: 58, 64\n"
     ]
    },
    {
     "data": {
      "image/png": "[encoded data removed]",
      "text/plain": [
       "<Figure size 432x288 with 1 Axes>"
      ]
     },
     "metadata": {},
     "output_type": "display_data"
    },
    {
     "name": "stdout",
     "output_type": "stream",
     "text": [
      "Termination: 59, 189\n"
     ]
    },
    {
     "data": {
      "image/png": "[encoded data removed]",
      "text/plain": [
       "<Figure size 432x288 with 1 Axes>"
      ]
     },
     "metadata": {},
     "output_type": "display_data"
    },
    {
     "name": "stdout",
     "output_type": "stream",
     "text": [
      "Termination: 64, 90\n"
     ]
    },
    {
     "data": {
      "image/png": "[encoded data removed]",
      "text/plain": [
       "<Figure size 432x288 with 1 Axes>"
      ]
     },
     "metadata": {},
     "output_type": "display_data"
    },
    {
     "name": "stdout",
     "output_type": "stream",
     "text": [
      "Termination: 67, 187\n"
     ]
    },
    {
     "data": {
      "image/png": "[encoded data removed]",
      "text/plain": [
       "<Figure size 432x288 with 1 Axes>"
      ]
     },
     "metadata": {},
     "output_type": "display_data"
    },
    {
     "name": "stdout",
     "output_type": "stream",
     "text": [
      "Termination: 70, 58\n"
     ]
    },
    {
     "data": {
      "image/png": "[encoded data removed]",
      "text/plain": [
       "<Figure size 432x288 with 1 Axes>"
      ]
     },
     "metadata": {},
     "output_type": "display_data"
    },
    {
     "name": "stdout",
     "output_type": "stream",
     "text": [
      "Termination: 72, 193\n"
     ]
    },
    {
     "data": {
      "image/png": "[encoded data removed]",
      "text/plain": [
       "<Figure size 432x288 with 1 Axes>"
      ]
     },
     "metadata": {},
     "output_type": "display_data"
    },
    {
     "name": "stdout",
     "output_type": "stream",
     "text": [
      "Termination: 72, 200\n"
     ]
    },
    {
     "data": {
      "image/png": "[encoded data removed]",
      "text/plain": [
       "<Figure size 432x288 with 1 Axes>"
      ]
     },
     "metadata": {},
     "output_type": "display_data"
    },
    {
     "name": "stdout",
     "output_type": "stream",
     "text": [
      "Termination: 73, 197\n"
     ]
    },
    {
     "data": {
      "image/png": "[encoded data removed]",
      "text/plain": [
       "<Figure size 432x288 with 1 Axes>"
      ]
     },
     "metadata": {},
     "output_type": "display_data"
    },
    {
     "name": "stdout",
     "output_type": "stream",
     "text": [
      "Termination: 74, 100\n"
     ]
    },
    {
     "data": {
      "image/png": "[encoded data removed]",
      "text/plain": [
       "<Figure size 432x288 with 1 Axes>"
      ]
     },
     "metadata": {},
     "output_type": "display_data"
    },
    {
     "name": "stdout",
     "output_type": "stream",
     "text": [
      "Termination: 75, 206\n"
     ]
    },
    {
     "data": {
      "image/png": "[encoded data removed]",
      "text/plain": [
       "<Figure size 432x288 with 1 Axes>"
      ]
     },
     "metadata": {},
     "output_type": "display_data"
    },
    {
     "name": "stdout",
     "output_type": "stream",
     "text": [
      "Termination: 76, 61\n"
     ]
    },
    {
     "data": {
      "image/png": "[encoded data removed]",
      "text/plain": [
       "<Figure size 432x288 with 1 Axes>"
      ]
     },
     "metadata": {},
     "output_type": "display_data"
    },
    {
     "name": "stdout",
     "output_type": "stream",
     "text": [
      "Termination: 80, 80\n"
     ]
    },
    {
     "data": {
      "image/png": "[encoded data removed]",
      "text/plain": [
       "<Figure size 432x288 with 1 Axes>"
      ]
     },
     "metadata": {},
     "output_type": "display_data"
    },
    {
     "name": "stdout",
     "output_type": "stream",
     "text": [
      "Termination: 81, 54\n"
     ]
    },
    {
     "data": {
      "image/png": "[encoded data removed]",
      "text/plain": [
       "<Figure size 432x288 with 1 Axes>"
      ]
     },
     "metadata": {},
     "output_type": "display_data"
    },
    {
     "name": "stdout",
     "output_type": "stream",
     "text": [
      "Termination: 84, 60\n"
     ]
    },
    {
     "data": {
      "image/png": "[encoded data removed]",
      "text/plain": [
       "<Figure size 432x288 with 1 Axes>"
      ]
     },
     "metadata": {},
     "output_type": "display_data"
    },
    {
     "name": "stdout",
     "output_type": "stream",
     "text": [
      "Termination: 87, 100\n"
     ]
    },
    {
     "data": {
      "image/png": "[encoded data removed]",
      "text/plain": [
       "<Figure size 432x288 with 1 Axes>"
      ]
     },
     "metadata": {},
     "output_type": "display_data"
    },
    {
     "name": "stdout",
     "output_type": "stream",
     "text": [
      "Termination: 90, 215\n"
     ]
    },
    {
     "data": {
      "image/png": "[encoded data removed]",
      "text/plain": [
       "<Figure size 432x288 with 1 Axes>"
      ]
     },
     "metadata": {},
     "output_type": "display_data"
    },
    {
     "name": "stdout",
     "output_type": "stream",
     "text": [
      "Termination: 96, 213\n"
     ]
    },
    {
     "data": {
      "image/png": "[encoded data removed]",
      "text/plain": [
       "<Figure size 432x288 with 1 Axes>"
      ]
     },
     "metadata": {},
     "output_type": "display_data"
    },
    {
     "name": "stdout",
     "output_type": "stream",
     "text": [
      "Termination: 98, 49\n"
     ]
    },
    {
     "data": {
      "image/png": "[encoded data removed]",
      "text/plain": [
       "<Figure size 432x288 with 1 Axes>"
      ]
     },
     "metadata": {},
     "output_type": "display_data"
    },
    {
     "name": "stdout",
     "output_type": "stream",
     "text": [
      "Termination: 100, 128\n"
     ]
    },
    {
     "data": {
      "image/png": "[encoded data removed]",
      "text/plain": [
       "<Figure size 432x288 with 1 Axes>"
      ]
     },
     "metadata": {},
     "output_type": "display_data"
    },
    {
     "name": "stdout",
     "output_type": "stream",
     "text": [
      "Termination: 105, 53\n"
     ]
    },
    {
     "data": {
      "image/png": "[encoded data removed]",
      "text/plain": [
       "<Figure size 432x288 with 1 Axes>"
      ]
     },
     "metadata": {},
     "output_type": "display_data"
    },
    {
     "name": "stdout",
     "output_type": "stream",
     "text": [
      "Termination: 108, 221\n"
     ]
    },
    {
     "data": {
      "image/png": "[encoded data removed]",
      "text/plain": [
       "<Figure size 432x288 with 1 Axes>"
      ]
     },
     "metadata": {},
     "output_type": "display_data"
    },
    {
     "name": "stdout",
     "output_type": "stream",
     "text": [
      "Termination: 116, 41\n"
     ]
    },
    {
     "data": {
      "image/png": "[encoded data removed]",
      "text/plain": [
       "<Figure size 432x288 with 1 Axes>"
      ]
     },
     "metadata": {},
     "output_type": "display_data"
    },
    {
     "name": "stdout",
     "output_type": "stream",
     "text": [
      "Termination: 117, 217\n"
     ]
    },
    {
     "data": {
      "image/png": "[encoded data removed]",
      "text/plain": [
       "<Figure size 432x288 with 1 Axes>"
      ]
     },
     "metadata": {},
     "output_type": "display_data"
    },
    {
     "name": "stdout",
     "output_type": "stream",
     "text": [
      "Termination: 120, 38\n"
     ]
    },
    {
     "data": {
      "image/png": "[encoded data removed]",
      "text/plain": [
       "<Figure size 432x288 with 1 Axes>"
      ]
     },
     "metadata": {},
     "output_type": "display_data"
    },
    {
     "name": "stdout",
     "output_type": "stream",
     "text": [
      "Termination: 125, 43\n"
     ]
    },
    {
     "data": {
      "image/png": "[encoded data removed]",
      "text/plain": [
       "<Figure size 432x288 with 1 Axes>"
      ]
     },
     "metadata": {},
     "output_type": "display_data"
    },
    {
     "name": "stdout",
     "output_type": "stream",
     "text": [
      "Termination: 134, 42\n"
     ]
    },
    {
     "data": {
      "image/png": "[encoded data removed]",
      "text/plain": [
       "<Figure size 432x288 with 1 Axes>"
      ]
     },
     "metadata": {},
     "output_type": "display_data"
    },
    {
     "name": "stdout",
     "output_type": "stream",
     "text": [
      "Termination: 135, 225\n"
     ]
    },
    {
     "data": {
      "image/png": "[encoded data removed]",
      "text/plain": [
       "<Figure size 432x288 with 1 Axes>"
      ]
     },
     "metadata": {},
     "output_type": "display_data"
    },
    {
     "name": "stdout",
     "output_type": "stream",
     "text": [
      "Termination: 146, 75\n"
     ]
    },
    {
     "data": {
      "image/png": "[encoded data removed]",
      "text/plain": [
       "<Figure size 432x288 with 1 Axes>"
      ]
     },
     "metadata": {},
     "output_type": "display_data"
    },
    {
     "name": "stdout",
     "output_type": "stream",
     "text": [
      "Termination: 146, 225\n"
     ]
    },
    {
     "data": {
      "image/png": "[encoded data removed]",
      "text/plain": [
       "<Figure size 432x288 with 1 Axes>"
      ]
     },
     "metadata": {},
     "output_type": "display_data"
    },
    {
     "name": "stdout",
     "output_type": "stream",
     "text": [
      "Termination: 147, 37\n"
     ]
    },
    {
     "data": {
      "image/png": "[encoded data removed]",
      "text/plain": [
       "<Figure size 432x288 with 1 Axes>"
      ]
     },
     "metadata": {},
     "output_type": "display_data"
    },
    {
     "name": "stdout",
     "output_type": "stream",
     "text": [
      "Termination: 151, 42\n"
     ]
    },
    {
     "data": {
      "image/png": "[encoded data removed]",
      "text/plain": [
       "<Figure size 432x288 with 1 Axes>"
      ]
     },
     "metadata": {},
     "output_type": "display_data"
    },
    {
     "name": "stdout",
     "output_type": "stream",
     "text": [
      "Termination: 161, 210\n"
     ]
    },
    {
     "data": {
      "image/png": "[encoded data removed]",
      "text/plain": [
       "<Figure size 432x288 with 1 Axes>"
      ]
     },
     "metadata": {},
     "output_type": "display_data"
    },
    {
     "name": "stdout",
     "output_type": "stream",
     "text": [
      "Termination: 165, 37\n"
     ]
    },
    {
     "data": {
      "image/png": "[encoded data removed]",
      "text/plain": [
       "<Figure size 432x288 with 1 Axes>"
      ]
     },
     "metadata": {},
     "output_type": "display_data"
    },
    {
     "name": "stdout",
     "output_type": "stream",
     "text": [
      "Termination: 171, 161\n"
     ]
    },
    {
     "data": {
      "image/png": "[encoded data removed]",
      "text/plain": [
       "<Figure size 432x288 with 1 Axes>"
      ]
     },
     "metadata": {},
     "output_type": "display_data"
    },
    {
     "name": "stdout",
     "output_type": "stream",
     "text": [
      "Termination: 171, 225\n"
     ]
    },
    {
     "data": {
      "image/png": "[encoded data removed]",
      "text/plain": [
       "<Figure size 432x288 with 1 Axes>"
      ]
     },
     "metadata": {},
     "output_type": "display_data"
    },
    {
     "name": "stdout",
     "output_type": "stream",
     "text": [
      "Termination: 176, 162\n"
     ]
    },
    {
     "data": {
      "image/png": "[encoded data removed]",
      "text/plain": [
       "<Figure size 432x288 with 1 Axes>"
      ]
     },
     "metadata": {},
     "output_type": "display_data"
    },
    {
     "name": "stdout",
     "output_type": "stream",
     "text": [
      "Termination: 177, 158\n"
     ]
    },
    {
     "data": {
      "image/png": "[encoded data removed]",
      "text/plain": [
       "<Figure size 432x288 with 1 Axes>"
      ]
     },
     "metadata": {},
     "output_type": "display_data"
    },
    {
     "name": "stdout",
     "output_type": "stream",
     "text": [
      "Termination: 178, 163\n"
     ]
    },
    {
     "data": {
      "image/png": "[encoded data removed]",
      "text/plain": [
       "<Figure size 432x288 with 1 Axes>"
      ]
     },
     "metadata": {},
     "output_type": "display_data"
    },
    {
     "name": "stdout",
     "output_type": "stream",
     "text": [
      "Termination: 179, 43\n"
     ]
    },
    {
     "data": {
      "image/png": "[encoded data removed]",
      "text/plain": [
       "<Figure size 432x288 with 1 Axes>"
      ]
     },
     "metadata": {},
     "output_type": "display_data"
    },
    {
     "name": "stdout",
     "output_type": "stream",
     "text": [
      "Termination: 179, 51\n"
     ]
    },
    {
     "data": {
      "image/png": "[encoded data removed]",
      "text/plain": [
       "<Figure size 432x288 with 1 Axes>"
      ]
     },
     "metadata": {},
     "output_type": "display_data"
    },
    {
     "name": "stdout",
     "output_type": "stream",
     "text": [
      "Bifurcation: 179, 169\n"
     ]
    },
    {
     "data": {
      "image/png": "[encoded data removed]",
      "text/plain": [
       "<Figure size 432x288 with 1 Axes>"
      ]
     },
     "metadata": {},
     "output_type": "display_data"
    },
    {
     "name": "stdout",
     "output_type": "stream",
     "text": [
      "Bifurcation: 181, 152\n"
     ]
    },
    {
     "data": {
      "image/png": "[encoded data removed]",
      "text/plain": [
       "<Figure size 432x288 with 1 Axes>"
      ]
     },
     "metadata": {},
     "output_type": "display_data"
    },
    {
     "name": "stdout",
     "output_type": "stream",
     "text": [
      "Termination: 183, 42\n"
     ]
    },
    {
     "data": {
      "image/png": "[encoded data removed]",
      "text/plain": [
       "<Figure size 432x288 with 1 Axes>"
      ]
     },
     "metadata": {},
     "output_type": "display_data"
    },
    {
     "name": "stdout",
     "output_type": "stream",
     "text": [
      "Termination: 183, 66\n"
     ]
    },
    {
     "data": {
      "image/png": "[encoded data removed]",
      "text/plain": [
       "<Figure size 432x288 with 1 Axes>"
      ]
     },
     "metadata": {},
     "output_type": "display_data"
    },
    {
     "name": "stdout",
     "output_type": "stream",
     "text": [
      "Termination: 189, 158\n"
     ]
    },
    {
     "data": {
      "image/png": "[encoded data removed]",
      "text/plain": [
       "<Figure size 432x288 with 1 Axes>"
      ]
     },
     "metadata": {},
     "output_type": "display_data"
    },
    {
     "name": "stdout",
     "output_type": "stream",
     "text": [
      "Termination: 191, 37\n"
     ]
    },
    {
     "data": {
      "image/png": "[encoded data removed]",
      "text/plain": [
       "<Figure size 432x288 with 1 Axes>"
      ]
     },
     "metadata": {},
     "output_type": "display_data"
    },
    {
     "name": "stdout",
     "output_type": "stream",
     "text": [
      "Termination: 192, 161\n"
     ]
    },
    {
     "data": {
      "image/png": "[encoded data removed]",
      "text/plain": [
       "<Figure size 432x288 with 1 Axes>"
      ]
     },
     "metadata": {},
     "output_type": "display_data"
    },
    {
     "name": "stdout",
     "output_type": "stream",
     "text": [
      "Termination: 194, 155\n"
     ]
    },
    {
     "data": {
      "image/png": "[encoded data removed]",
      "text/plain": [
       "<Figure size 432x288 with 1 Axes>"
      ]
     },
     "metadata": {},
     "output_type": "display_data"
    },
    {
     "name": "stdout",
     "output_type": "stream",
     "text": [
      "Bifurcation: 199, 63\n"
     ]
    },
    {
     "data": {
      "image/png": "[encoded data removed]",
      "text/plain": [
       "<Figure size 432x288 with 1 Axes>"
      ]
     },
     "metadata": {},
     "output_type": "display_data"
    },
    {
     "name": "stdout",
     "output_type": "stream",
     "text": [
      "Termination: 206, 34\n"
     ]
    },
    {
     "data": {
      "image/png": "[encoded data removed]",
      "text/plain": [
       "<Figure size 432x288 with 1 Axes>"
      ]
     },
     "metadata": {},
     "output_type": "display_data"
    },
    {
     "name": "stdout",
     "output_type": "stream",
     "text": [
      "Termination: 211, 38\n"
     ]
    },
    {
     "data": {
      "image/png": "[encoded data removed]",
      "text/plain": [
       "<Figure size 432x288 with 1 Axes>"
      ]
     },
     "metadata": {},
     "output_type": "display_data"
    },
    {
     "name": "stdout",
     "output_type": "stream",
     "text": [
      "Termination: 223, 36\n"
     ]
    },
    {
     "data": {
      "image/png": "[encoded data removed]",
      "text/plain": [
       "<Figure size 432x288 with 1 Axes>"
      ]
     },
     "metadata": {},
     "output_type": "display_data"
    },
    {
     "name": "stdout",
     "output_type": "stream",
     "text": [
      "Termination: 233, 36\n"
     ]
    },
    {
     "data": {
      "image/png": "[encoded data removed]",
      "text/plain": [
       "<Figure size 432x288 with 1 Axes>"
      ]
     },
     "metadata": {},
     "output_type": "display_data"
    },
    {
     "name": "stdout",
     "output_type": "stream",
     "text": [
      "Termination: 233, 48\n"
     ]
    },
    {
     "data": {
      "image/png": "[encoded data removed]",
      "text/plain": [
       "<Figure size 432x288 with 1 Axes>"
      ]
     },
     "metadata": {},
     "output_type": "display_data"
    },
    {
     "name": "stdout",
     "output_type": "stream",
     "text": [
      "Termination: 235, 206\n"
     ]
    },
    {
     "data": {
      "image/png": "[encoded data removed]",
      "text/plain": [
       "<Figure size 432x288 with 1 Axes>"
      ]
     },
     "metadata": {},
     "output_type": "display_data"
    },
    {
     "name": "stdout",
     "output_type": "stream",
     "text": [
      "Termination: 237, 225\n"
     ]
    },
    {
     "data": {
      "image/png": "[encoded data removed]",
      "text/plain": [
       "<Figure size 432x288 with 1 Axes>"
      ]
     },
     "metadata": {},
     "output_type": "display_data"
    },
    {
     "name": "stdout",
     "output_type": "stream",
     "text": [
      "Termination: 246, 131\n"
     ]
    },
    {
     "data": {
      "image/png": "[encoded data removed]",
      "text/plain": [
       "<Figure size 432x288 with 1 Axes>"
      ]
     },
     "metadata": {},
     "output_type": "display_data"
    },
    {
     "name": "stdout",
     "output_type": "stream",
     "text": [
      "Termination: 250, 128\n"
     ]
    },
    {
     "data": {
      "image/png": "[encoded data removed]",
      "text/plain": [
       "<Figure size 432x288 with 1 Axes>"
      ]
     },
     "metadata": {},
     "output_type": "display_data"
    },
    {
     "name": "stdout",
     "output_type": "stream",
     "text": [
      "Termination: 251, 42\n"
     ]
    },
    {
     "data": {
      "image/png": "[encoded data removed]",
      "text/plain": [
       "<Figure size 432x288 with 1 Axes>"
      ]
     },
     "metadata": {},
     "output_type": "display_data"
    },
    {
     "name": "stdout",
     "output_type": "stream",
     "text": [
      "Termination: 260, 44\n"
     ]
    },
    {
     "data": {
      "image/png": "[encoded data removed]",
      "text/plain": [
       "<Figure size 432x288 with 1 Axes>"
      ]
     },
     "metadata": {},
     "output_type": "display_data"
    },
    {
     "name": "stdout",
     "output_type": "stream",
     "text": [
      "Termination: 266, 50\n"
     ]
    },
    {
     "data": {
      "image/png": "[encoded data removed]",
      "text/plain": [
       "<Figure size 432x288 with 1 Axes>"
      ]
     },
     "metadata": {},
     "output_type": "display_data"
    },
    {
     "name": "stdout",
     "output_type": "stream",
     "text": [
      "Termination: 271, 148\n"
     ]
    },
    {
     "data": {
      "image/png": "[encoded data removed]",
      "text/plain": [
       "<Figure size 432x288 with 1 Axes>"
      ]
     },
     "metadata": {},
     "output_type": "display_data"
    },
    {
     "name": "stdout",
     "output_type": "stream",
     "text": [
      "Termination: 272, 53\n"
     ]
    },
    {
     "data": {
      "image/png": "[encoded data removed]",
      "text/plain": [
       "<Figure size 432x288 with 1 Axes>"
      ]
     },
     "metadata": {},
     "output_type": "display_data"
    },
    {
     "name": "stdout",
     "output_type": "stream",
     "text": [
      "Termination: 278, 59\n"
     ]
    },
    {
     "data": {
      "image/png": "[encoded data removed]",
      "text/plain": [
       "<Figure size 432x288 with 1 Axes>"
      ]
     },
     "metadata": {},
     "output_type": "display_data"
    },
    {
     "name": "stdout",
     "output_type": "stream",
     "text": [
      "Termination: 281, 213\n"
     ]
    },
    {
     "data": {
      "image/png": "[encoded data removed]",
      "text/plain": [
       "<Figure size 432x288 with 1 Axes>"
      ]
     },
     "metadata": {},
     "output_type": "display_data"
    },
    {
     "name": "stdout",
     "output_type": "stream",
     "text": [
      "Termination: 284, 66\n"
     ]
    },
    {
     "data": {
      "image/png": "[encoded data removed]",
      "text/plain": [
       "<Figure size 432x288 with 1 Axes>"
      ]
     },
     "metadata": {},
     "output_type": "display_data"
    },
    {
     "name": "stdout",
     "output_type": "stream",
     "text": [
      "Termination: 284, 73\n"
     ]
    },
    {
     "data": {
      "image/png": "[encoded data removed]",
      "text/plain": [
       "<Figure size 432x288 with 1 Axes>"
      ]
     },
     "metadata": {},
     "output_type": "display_data"
    },
    {
     "name": "stdout",
     "output_type": "stream",
     "text": [
      "Termination: 284, 78\n"
     ]
    },
    {
     "data": {
      "image/png": "[encoded data removed]",
      "text/plain": [
       "<Figure size 432x288 with 1 Axes>"
      ]
     },
     "metadata": {},
     "output_type": "display_data"
    },
    {
     "name": "stdout",
     "output_type": "stream",
     "text": [
      "Termination: 284, 201\n"
     ]
    },
    {
     "data": {
      "image/png": "[encoded data removed]",
      "text/plain": [
       "<Figure size 432x288 with 1 Axes>"
      ]
     },
     "metadata": {},
     "output_type": "display_data"
    },
    {
     "name": "stdout",
     "output_type": "stream",
     "text": [
      "Termination: 288, 206\n"
     ]
    },
    {
     "data": {
      "image/png": "[encoded data removed]",
      "text/plain": [
       "<Figure size 432x288 with 1 Axes>"
      ]
     },
     "metadata": {},
     "output_type": "display_data"
    },
    {
     "name": "stdout",
     "output_type": "stream",
     "text": [
      "Termination: 292, 165\n"
     ]
    },
    {
     "data": {
      "image/png": "[encoded data removed]",
      "text/plain": [
       "<Figure size 432x288 with 1 Axes>"
      ]
     },
     "metadata": {},
     "output_type": "display_data"
    },
    {
     "name": "stdout",
     "output_type": "stream",
     "text": [
      "Termination: 293, 66\n"
     ]
    },
    {
     "data": {
      "image/png": "[encoded data removed]",
      "text/plain": [
       "<Figure size 432x288 with 1 Axes>"
      ]
     },
     "metadata": {},
     "output_type": "display_data"
    },
    {
     "name": "stdout",
     "output_type": "stream",
     "text": [
      "Termination: 293, 78\n"
     ]
    },
    {
     "data": {
      "image/png": "[encoded data removed]",
      "text/plain": [
       "<Figure size 432x288 with 1 Axes>"
      ]
     },
     "metadata": {},
     "output_type": "display_data"
    },
    {
     "name": "stdout",
     "output_type": "stream",
     "text": [
      "Termination: 295, 84\n"
     ]
    },
    {
     "data": {
      "image/png": "[encoded data removed]",
      "text/plain": [
       "<Figure size 432x288 with 1 Axes>"
      ]
     },
     "metadata": {},
     "output_type": "display_data"
    },
    {
     "name": "stdout",
     "output_type": "stream",
     "text": [
      "Termination: 299, 182\n"
     ]
    },
    {
     "data": {
      "image/png": "[encoded data removed]",
      "text/plain": [
       "<Figure size 432x288 with 1 Axes>"
      ]
     },
     "metadata": {},
     "output_type": "display_data"
    },
    {
     "name": "stdout",
     "output_type": "stream",
     "text": [
      "Termination: 301, 175\n"
     ]
    },
    {
     "data": {
      "image/png": "[encoded data removed]",
      "text/plain": [
       "<Figure size 432x288 with 1 Axes>"
      ]
     },
     "metadata": {},
     "output_type": "display_data"
    },
    {
     "name": "stdout",
     "output_type": "stream",
     "text": [
      "Termination: 302, 87\n"
     ]
    },
    {
     "data": {
      "image/png": "[encoded data removed]",
      "text/plain": [
       "<Figure size 432x288 with 1 Axes>"
      ]
     },
     "metadata": {},
     "output_type": "display_data"
    },
    {
     "name": "stdout",
     "output_type": "stream",
     "text": [
      "Termination: 305, 93\n"
     ]
    },
    {
     "data": {
      "image/png": "[encoded data removed]",
      "text/plain": [
       "<Figure size 432x288 with 1 Axes>"
      ]
     },
     "metadata": {},
     "output_type": "display_data"
    },
    {
     "name": "stdout",
     "output_type": "stream",
     "text": [
      "Termination: 305, 105\n"
     ]
    },
    {
     "data": {
      "image/png": "[encoded data removed]",
      "text/plain": [
       "<Figure size 432x288 with 1 Axes>"
      ]
     },
     "metadata": {},
     "output_type": "display_data"
    },
    {
     "name": "stdout",
     "output_type": "stream",
     "text": [
      "Termination: 305, 116\n"
     ]
    },
    {
     "data": {
      "image/png": "[encoded data removed]",
      "text/plain": [
       "<Figure size 432x288 with 1 Axes>"
      ]
     },
     "metadata": {},
     "output_type": "display_data"
    },
    {
     "name": "stdout",
     "output_type": "stream",
     "text": [
      "Termination: 305, 128\n"
     ]
    },
    {
     "data": {
      "image/png": "[encoded data removed]",
      "text/plain": [
       "<Figure size 432x288 with 1 Axes>"
      ]
     },
     "metadata": {},
     "output_type": "display_data"
    },
    {
     "name": "stdout",
     "output_type": "stream",
     "text": [
      "Termination: 305, 142\n"
     ]
    },
    {
     "data": {
      "image/png": "[encoded data removed]",
      "text/plain": [
       "<Figure size 432x288 with 1 Axes>"
      ]
     },
     "metadata": {},
     "output_type": "display_data"
    },
    {
     "name": "stdout",
     "output_type": "stream",
     "text": [
      "Termination: 305, 153\n"
     ]
    },
    {
     "data": {
      "image/png": "[encoded data removed]",
      "text/plain": [
       "<Figure size 432x288 with 1 Axes>"
      ]
     },
     "metadata": {},
     "output_type": "display_data"
    },
    {
     "name": "stdout",
     "output_type": "stream",
     "text": [
      "Termination: 305, 168\n"
     ]
    },
    {
     "data": {
      "image/png": "[encoded data removed]",
      "text/plain": [
       "<Figure size 432x288 with 1 Axes>"
      ]
     },
     "metadata": {},
     "output_type": "display_data"
    },
    {
     "name": "stdout",
     "output_type": "stream",
     "text": [
      "0 , (52, 178)\n",
      "1 , (64, 90)\n",
      "2 , (74, 100)\n",
      "3 , (76, 61)\n",
      "4 , (80, 80)\n",
      "5 , (87, 100)\n",
      "6 , (100, 128)\n",
      "7 , (146, 75)\n",
      "8 , (161, 210)\n",
      "9 , (171, 161)\n",
      "10 , (176, 162)\n",
      "11 , (177, 158)\n",
      "12 , (178, 163)\n",
      "13 , (179, 51)\n",
      "14 , (183, 66)\n",
      "15 , (189, 158)\n",
      "16 , (192, 161)\n",
      "17 , (194, 155)\n",
      "18 , (233, 48)\n",
      "19 , (235, 206)\n",
      "20 , (246, 131)\n",
      "21 , (250, 128)\n",
      "22 , (271, 148)\n",
      "23 , (284, 78)\n",
      "24 , (292, 165)\n",
      "25 , (179, 169)\n",
      "26 , (181, 152)\n",
      "27 , (199, 63)\n",
      "INFO: Score - 0.0\n",
      "Not a match with 105_6\n",
      "INFO: Score - 0.021052631578947368\n",
      "Not a match with 110_6\n",
      "INFO: Score - 0.0\n",
      "Not a match with 109_6\n",
      "INFO: Score - 0.0\n",
      "Not a match with 108_5\n",
      "INFO: Score - 0.0\n",
      "Not a match with 108_1\n",
      "INFO: Score - 0.0\n",
      "Not a match with 106_4\n",
      "INFO: Score - 0.0\n",
      "Not a match with 103_5\n",
      "INFO: Score - 0.0\n",
      "Not a match with 102_5\n",
      "INFO: Score - 0.0\n",
      "Not a match with 102_7\n",
      "INFO: Score - 0.0\n",
      "Not a match with 105_4\n",
      "INFO: Score - 0.0\n",
      "Not a match with 106_7\n",
      "INFO: Score - 0.0\n",
      "Not a match with 106_8\n",
      "INFO: Score - 0.0\n",
      "Not a match with 106_2\n",
      "INFO: Score - 0.0\n",
      "Not a match with 103_7\n",
      "INFO: Score - 0.0\n",
      "Not a match with 102_4\n",
      "INFO: Score - 0.0\n",
      "Not a match with 109_2\n",
      "INFO: Score - 0.0\n",
      "Not a match with 109_4\n",
      "INFO: Score - 0.0\n",
      "Not a match with 107_2\n",
      "INFO: Score - 0.0\n",
      "Not a match with 107_8\n",
      "INFO: Score - 0.0\n",
      "Not a match with 110_5\n",
      "INFO: Score - 0.0\n",
      "Not a match with 106_1\n",
      "INFO: Score - 0.0\n",
      "Not a match with 108_7\n",
      "INFO: Score - 0.0\n",
      "Not a match with 106_6\n",
      "INFO: Score - 0.0\n",
      "Not a match with 106_3\n",
      "INFO: Score - 0.0\n",
      "Not a match with 109_7\n",
      "INFO: Score - 0.0\n",
      "Not a match with 110_3\n",
      "INFO: Score - 0.0\n",
      "Not a match with 101_4\n",
      "INFO: Score - 0.0\n",
      "Not a match with 107_6\n",
      "INFO: Score - 0.0\n",
      "Not a match with 104_3\n",
      "INFO: Score - 0.0\n",
      "Not a match with 105_5\n",
      "INFO: Score - 0.0\n",
      "Not a match with 109_1\n",
      "INFO: Score - 0.0\n",
      "Not a match with 110_2\n",
      "INFO: Score - 0.0\n",
      "Not a match with 102_6\n",
      "INFO: Score - 0.0\n",
      "Not a match with 110_8\n",
      "INFO: Score - 0.0\n",
      "Not a match with 108_4\n",
      "INFO: Score - 0.0\n",
      "Not a match with 105_3\n",
      "INFO: Score - 0.0\n",
      "Not a match with 109_8\n",
      "INFO: Score - 0.0\n",
      "Not a match with 104_7\n",
      "INFO: Score - 0.0\n",
      "Not a match with 103_3\n",
      "INFO: Score - 0.0\n",
      "Not a match with 105_1\n",
      "INFO: Score - 0.0\n",
      "Not a match with 103_1\n",
      "INFO: Score - 0.0\n",
      "Not a match with 104_8\n",
      "INFO: Score - 0.0\n",
      "Not a match with 104_6\n",
      "INFO: Score - 0.0\n",
      "Not a match with 104_2\n",
      "INFO: Score - 0.0\n",
      "Not a match with 107_4\n",
      "INFO: Score - 0.0\n",
      "Not a match with 107_3\n",
      "INFO: Score - 0.0\n",
      "Not a match with 105_2\n",
      "INFO: Score - 0.0\n",
      "Not a match with 108_3\n",
      "INFO: Score - 0.0\n",
      "Not a match with 107_1\n",
      "INFO: Score - 0.0\n",
      "Not a match with 101_6\n",
      "INFO: Score - 0.0\n",
      "Not a match with 105_7\n",
      "INFO: Score - 0.0\n",
      "Not a match with 109_3\n",
      "INFO: Score - 0.0\n",
      "Not a match with 106_5\n",
      "INFO: Score - 0.0\n",
      "Not a match with 102_8\n",
      "INFO: Score - 0.0\n",
      "Not a match with 103_4\n",
      "INFO: Score - 0.0\n",
      "Not a match with 102_3\n",
      "INFO: Score - 0.0\n",
      "Not a match with 101_5\n",
      "INFO: Score - 0.0\n",
      "Not a match with 110_4\n",
      "INFO: Score - 0.0\n",
      "Not a match with 103_8\n",
      "INFO: Score - 0.0\n",
      "Not a match with 104_4\n",
      "INFO: Score - 0.0\n",
      "Not a match with 104_5\n",
      "INFO: Score - 0.0\n",
      "Not a match with 101_7\n",
      "INFO: Score - 0.0\n",
      "Not a match with 104_1\n",
      "INFO: Score - 0.0\n",
      "Not a match with 108_8\n",
      "INFO: Score - 0.0\n",
      "Not a match with 101_1\n",
      "INFO: Score - 0.0\n",
      "Not a match with 103_6\n",
      "INFO: Score - 0.0\n",
      "Not a match with 101_3\n",
      "INFO: Score - 0.0\n",
      "Not a match with 107_7\n",
      "INFO: Score - 0.0\n",
      "Not a match with 103_2\n",
      "INFO: Score - 0.0\n",
      "Not a match with 102_1\n",
      "INFO: Score - 0.0\n",
      "Not a match with 101_8\n",
      "INFO: Score - 0.0\n",
      "Not a match with 102_2\n",
      "INFO: Score - 0.0\n",
      "Not a match with 110_1\n",
      "INFO: Score - 0.010362694300518135\n",
      "Not a match with 110_7\n",
      "INFO: Score - 0.0\n",
      "Not a match with 108_6\n",
      "INFO: Score - 0.0\n",
      "Not a match with 108_2\n",
      "INFO: Score - 0.0\n",
      "Not a match with 101_2\n",
      "INFO: Score - 0.0\n",
      "Not a match with 107_5\n",
      "INFO: Score - 0.0\n",
      "Not a match with 109_5\n",
      "INFO: Score - 0.0\n",
      "Not a match with 105_8\n"
     ]
    }
   ],
   "source": [
    "scores = fm.matchFingerprint(img_test, verbose=False, )"
   ]
  }
 ],
 "metadata": {
  "interpreter": {
   "hash": "799216c8fcf023212c8180555d9f12b0e678cb1bf90d02621b665048ee5ee92c"
  },
  "kernelspec": {
   "display_name": "Python 3.9.10 64-bit",
   "language": "python",
   "name": "python3"
  },
  "language_info": {
   "codemirror_mode": {
    "name": "ipython",
    "version": 3
   },
   "file_extension": ".py",
   "mimetype": "text/x-python",
   "name": "python",
   "nbconvert_exporter": "python",
   "pygments_lexer": "ipython3",
   "version": "3.9.10"
  },
  "orig_nbformat": 4
 },
 "nbformat": 4,
 "nbformat_minor": 2
}
