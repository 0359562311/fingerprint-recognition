{
 "cells": [
  {
   "cell_type": "code",
   "execution_count": 1,
   "metadata": {},
   "outputs": [],
   "source": [
    "from main import FingerMatch\n",
    "import os\n",
    "import cv2\n",
    "import sys\n",
    "import math\n",
    "import warnings\n",
    "import numpy as np\n",
    "from zipfile import ZipFile\n",
    "\n",
    "import pandas as pd\n",
    "\n",
    "#import gdal\n",
    "from sklearn.decomposition import PCA\n",
    "\n",
    "import matplotlib.pyplot as plt\n",
    "\n",
    "from jupyterthemes import jtplot\n",
    "jtplot.style()\n",
    "\n",
    "from scipy import ndimage as ndi\n",
    "from skimage import feature\n",
    "\n",
    "from PIL import Image\n",
    "from IPython.display import display\n",
    "\n",
    "from libs.enhancing import *\n",
    "from libs.basics import *\n",
    "from libs.processing import *\n",
    "\n",
    "if not sys.warnoptions:\n",
    "    warnings.simplefilter(\"ignore\")\n",
    "\n",
    "%matplotlib inline"
   ]
  },
  {
   "cell_type": "code",
   "execution_count": 16,
   "metadata": {},
   "outputs": [],
   "source": [
    "# Revert gray colour levels. Match scale with the raw image for comparison.\n",
    "path_train = '/home/tan/Documents/PythonProjects/AI/FingerMatch-20220508T085804Z-001/FingerMatch/data/Fingerprints - Set A/101_1.tif'\n",
    "path_test = '/home/tan/Documents/PythonProjects/AI/FingerMatch-20220508T085804Z-001/FingerMatch/data/Fingerprints - Set B/101_1.tif'\n",
    "\n",
    "# Image loading\n",
    "img_train = load_image(path_train, True)\n",
    "img_test = load_image(path_test, True)"
   ]
  },
  {
   "cell_type": "code",
   "execution_count": 8,
   "metadata": {},
   "outputs": [
    {
     "data": {
      "text/plain": [
       "array([[160, 160, 160, ...,   0,   0,   0],\n",
       "       [160, 105, 105, ...,   0,   0,   0],\n",
       "       [160, 105, 255, ...,   0,   0,   0],\n",
       "       ...,\n",
       "       [  0,   0,   0, ...,   0,   0,   0],\n",
       "       [  0,   0,   0, ...,   0,   0,   0],\n",
       "       [  0,   0,   0, ...,   0,   0,   0]], dtype=uint8)"
      ]
     },
     "execution_count": 8,
     "metadata": {},
     "output_type": "execute_result"
    }
   ],
   "source": [
    "img_train = load_image('/home/tan/Documents/PythonProjects/AI/FingerMatch-20220508T085804Z-001/FingerMatch/data/download/1_M_Left_index_finger.tif', True)\n",
    "enhanced_img = enhance_image(img_train, skeletonise=True)"
   ]
  },
  {
   "cell_type": "code",
   "execution_count": 22,
   "metadata": {},
   "outputs": [
    {
     "name": "stdout",
     "output_type": "stream",
     "text": [
      "\n",
      "INFO: Dataset loaded successfully. Duration: 0.0 sec\n",
      "INFO: Loading model features. Model: tree\n",
      "INFO: Training completed in 1.36 sec\n"
     ]
    }
   ],
   "source": [
    "# path = '/home/tan/Documents/PythonProjects/AI/FingerMatch-20220508T085804Z-001/FingerMatch/data/Fingerprints - Set B'\n",
    "path = '/home/tan/Documents/PythonProjects/AI/FingerMatch-20220508T085804Z-001/FingerMatch/data/download'\n",
    "\n",
    "fm = FingerMatch('tree',)\n",
    "fm.loadData(path)\n",
    "fm.trainData()\n",
    "# scores = fm.matchFingerprint(img_train, verbose=False, )"
   ]
  },
  {
   "cell_type": "code",
   "execution_count": 24,
   "metadata": {},
   "outputs": [
    {
     "name": "stdout",
     "output_type": "stream",
     "text": [
      "dict_keys([(64, 36), (65, 38), (70, 39), (72, 54), (76, 43), (76, 53), (83, 43)])\n"
     ]
    }
   ],
   "source": [
    "for i in fm.images:\n",
    "    print(i.profile.keys())\n",
    "# fm.images[0].profile.keys()"
   ]
  },
  {
   "cell_type": "code",
   "execution_count": 8,
   "metadata": {},
   "outputs": [],
   "source": [
    "# fm.save_as_pickle()"
   ]
  },
  {
   "cell_type": "code",
   "execution_count": 3,
   "metadata": {},
   "outputs": [],
   "source": [
    "from libs.minutiae import *\n",
    "fm = FingerMatch('tree',)\n",
    "fm.load_from_pickle()\n"
   ]
  },
  {
   "cell_type": "code",
   "execution_count": 21,
   "metadata": {},
   "outputs": [
    {
     "name": "stdout",
     "output_type": "stream",
     "text": [
      "(61, 97) [[ 1.32  3.6   4.26  4.51  2.73  3.24  3.43  1.19  1.25  1.06]\n",
      " [ 9.46  4.83 86.29 87.66 14.29 95.75 97.13 81.46 82.83  1.37]]\n",
      "(69, 81) [[  3.58   6.38   8.96  12.47   1.78   2.51   3.49   1.41   1.96   1.39]\n",
      " [ 26.57 131.19 128.66  41.1  157.75 155.22  67.66   2.53  90.09  87.56]]\n",
      "(69, 86) [[  2.72   7.08   9.62  11.74   2.6    3.54   4.32   1.36   1.66   1.22]\n",
      " [143.97  42.71  46.68 135.69 173.32 169.34  80.34   3.98  92.98  89.01]]\n",
      "(93, 60) [[  2.45   2.71   3.75   4.2    1.11   1.53   1.72   1.38   1.55   1.12]\n",
      " [171.29 165.18 163.33  17.67   6.1    7.96 153.61   1.85 147.51 145.65]]\n",
      "(103, 149) [[  1.3    1.43   1.63   1.77   1.1    1.26   1.37   1.14   1.24   1.09]\n",
      " [138.5  146.63  65.98   4.16   8.13  72.53 134.34  80.66 142.47  61.82]]\n",
      "(104, 53) [[  3.27   3.44   3.69   4.07   1.05   1.13   1.25   1.07   1.18   1.1 ]\n",
      " [156.99   6.19  10.84 101.76 150.8  146.15  55.23   4.66  95.58  90.92]]\n",
      "(107, 164) [[  1.28   1.96   2.76   2.99   1.53   2.15   2.33   1.41   1.52   1.08]\n",
      " [170.49  93.2  146.94 150.79  77.29  23.55  19.69  53.74  57.59   3.85]]\n",
      "(110, 128) [[  6.14   7.58   8.54  10.02   1.23   1.39   1.63   1.13   1.32   1.17]\n",
      " [ 52.12  80.06   2.06  38.45 132.18  54.19  13.67  78.   118.51  40.52]]\n",
      "(112, 131) [[  5.58   7.47   7.54   9.26   1.34   1.35   1.66   1.01   1.24   1.23]\n",
      " [119.74  92.36 177.66 137.69 147.89  62.59  17.95  85.3  129.94  44.64]]\n",
      "(112, 175) [[  2.25   2.28   2.33   3.19   1.01   1.04   1.42   1.02   1.4    1.37]\n",
      " [ 60.47   5.35 130.95  97.89  55.12  70.48  37.42 125.6   92.54  33.06]]\n",
      "(128, 153) [[ 1.    1.07  1.15  1.15  1.07  1.15  1.15  1.07  1.07  1.  ]\n",
      " [ 0.   36.74 81.62 81.62 36.74 81.62 81.62 44.88 44.88  0.  ]]\n",
      "(135, 117) [[  1.01   1.02   1.37   1.7    1.01   1.36   1.68   1.34   1.66   1.23]\n",
      " [134.32 126.74 178.01 147.99   7.58  47.67  13.67  55.25  21.25  34.  ]]\n",
      "(139, 183) [[  1.34   1.76   1.99   2.32   1.31   1.49   1.73   1.13   1.32   1.16]\n",
      " [ 58.67 159.92 106.56 145.72 101.25  47.89  87.06  53.36  14.2   39.16]]\n",
      "(141, 91) [[  1.48   1.7    1.81   1.85   1.14   1.22   1.25   1.07   1.09   1.02]\n",
      " [147.99 173.35  26.96  22.95  38.66 174.96 170.94 146.38 150.4    4.02]]\n",
      "(146, 46) [[  1.49   1.58   1.92   2.06   1.06   1.29   1.38   1.21   1.3    1.08]\n",
      " [134.07  59.87 128.73  21.73  74.2    5.33 155.79  68.86  81.6  150.46]]\n",
      "(149, 164) [[  1.13   1.25   2.03   2.21   1.1    1.8    1.96   1.63   1.77   1.09]\n",
      " [ 46.19 136.08  91.88 108.43  89.89  45.68  62.24  44.2   27.65  16.56]]\n",
      "(169, 63) [[  1.19   1.19   1.38   1.77   1.     1.16   1.49   1.16   1.49   1.28]\n",
      " [143.53 140.16  81.47 165.54   3.37 135.    22.01 138.37  25.38 112.99]]\n",
      "(181, 209) [[  2.06   9.09  11.98  13.39   4.42   5.82   6.51   1.32   1.47   1.12]\n",
      " [ 30.96  57.96  72.28  49.45  88.92 103.24  80.42  14.32   8.5   22.82]]\n",
      "(182, 205) [[  1.31   8.6   11.71  12.76   6.59   8.97   9.77   1.36   1.48   1.09]\n",
      " [125.84 116.39 103.06 127.13 117.77 131.1  107.03  13.33  10.74  24.07]]\n",
      "(187, 203) [[  1.58   7.11   9.66   9.8    4.51   6.13   6.22   1.36   1.38   1.01]\n",
      " [ 23.2   55.08  44.42 121.62  78.27  67.62 144.82  10.66  66.54  77.2 ]]\n",
      "(193, 118) [[  3.19   4.55   4.73   5.78   1.42   1.48   1.81   1.04   1.27   1.22]\n",
      " [116.57 133.73   5.19 140.01  17.16 111.37  23.45 128.53   6.29 134.82]]\n",
      "(193, 125) [[  3.74   3.75   5.29   6.58   1.     1.41   1.76   1.41   1.75   1.24]\n",
      " [173.42  49.64  38.42  34.38 123.78 135.   139.04  11.22  15.26   4.04]]\n",
      "(196, 151) [[  1.27   1.77   1.86   1.96   1.4    1.47   1.55   1.05   1.11   1.05]\n",
      " [  1.39  28.15  98.88 120.51  26.77 100.27 121.9  127.03 148.66  21.63]]\n",
      "(203, 61) [[ 12.09  12.26  12.35  13.12   1.01   1.02   1.09   1.01   1.07   1.06]\n",
      " [ 97.13 101.77  31.76  40.36   4.64  65.37  56.76  70.01  61.4    8.61]]\n",
      "(203, 63) [[ 11.51  12.26  12.38  12.5    1.06   1.08   1.09   1.01   1.02   1.01]\n",
      " [145.62  78.23 136.64  73.74  67.39   8.98  71.88  58.4    4.49  62.9 ]]\n",
      "(213, 108) [[  1.77   1.81   2.12   2.12   1.02   1.2    1.2    1.17   1.17   1.  ]\n",
      " [  1.91 130.6    7.45 144.4  132.51   9.36 146.31 123.15  13.8  136.95]]\n",
      "(216, 82) [[  1.41   3.4    5.58   5.99   2.4    3.95   4.24   1.64   1.76   1.07]\n",
      " [ 73.07 104.04 110.34 107.72  30.96 176.58 179.21 145.62 148.24   2.62]]\n",
      "(216, 96) [[  1.3    1.48   1.64   3.35   1.13   1.26   2.57   1.11   2.27   2.05]\n",
      " [175.6   18.44   3.5  152.16 165.96 179.11  32.24  14.93 133.73 148.66]]\n",
      "(219, 87) [[  1.04   1.63   3.75   4.95   1.56   3.59   4.74   2.3    3.04   1.32]\n",
      " [ 40.43 130.6  133.09   2.73 171.03 173.52  43.15   2.49 127.88 130.36]]\n",
      "(220, 81) [[  1.48   3.77   5.83   6.     2.55   3.95   4.07   1.55   1.59   1.03]\n",
      " [ 66.5   61.03 120.96  60.67   5.47 172.53 127.17 178.   121.71  60.29]]\n",
      "(227, 56) [[12.26 12.5  12.98 14.12  1.02  1.06  1.15  1.04  1.13  1.09]\n",
      " [78.23 73.74 15.64 22.93  4.49 62.59 55.3  58.1  50.81  7.29]]\n",
      "(227, 58) [[ 12.02  12.09  12.26  13.2    1.01   1.02   1.1    1.01   1.09   1.08]\n",
      " [163.07  97.13 101.77 155.38  65.95  61.3    7.7    4.64  58.25  53.61]]\n",
      "(261, 57) [[  1.29   1.41   1.62   1.62   1.1    1.26   1.26   1.15   1.15   1.  ]\n",
      " [  0.61   8.96  94.41  94.41   9.57  93.81  93.81 103.37 103.37   0.  ]]\n",
      "(262, 78) [[  1.57   2.32   3.5    4.03   1.48   2.23   2.56   1.51   1.74   1.15]\n",
      " [ 32.01  21.04 177.27  24.44  10.97 150.72   7.56 161.69   3.41 158.28]]\n",
      "(262, 84) [[  1.11   1.6    3.5    4.17   1.43   3.14   3.75   2.19   2.61   1.19]\n",
      " [111.8   32.66  36.19  47.34 144.46 147.99 159.15   3.53  14.68  11.15]]\n",
      "(267, 86) [[  1.08   1.89   2.97   3.85   1.75   2.76   3.57   1.58   2.04   1.29]\n",
      " [111.8  147.99  19.65   8.97  36.19 131.46 120.77 167.65 156.97  10.68]]\n",
      "(267, 91) [[  1.72   2.06   2.79   2.86   1.2    1.62   1.66   1.35   1.39   1.03]\n",
      " [ 35.54 150.95  21.04 167.91 173.52  14.5  156.56 171.98  16.96 171.06]]\n",
      "(270, 105) [[  2.66   3.57   4.17   4.59   1.34   1.57   1.72   1.17   1.28   1.1 ]\n",
      " [ 33.9   30.77  42.66 170.04   3.12   8.76 136.15  11.88 139.27 127.39]]\n",
      "(272, 100) [[  1.91   2.76   3.5    4.49   1.44   1.83   2.35   1.27   1.63   1.28]\n",
      " [129.14 138.54 126.19 133.75   9.4    2.95   4.61  12.35   4.79   7.56]]\n",
      "(289, 148) [[  3.86   4.68   5.07   6.08   1.21   1.31   1.57   1.08   1.3    1.2 ]\n",
      " [139.78 108.13 103.79 105.39  31.65  35.99  34.39   4.34   2.73   1.6 ]]\n",
      "(299, 147) [[ 4.67  5.08  5.39  6.42  1.09  1.15  1.37  1.06  1.26  1.19]\n",
      " [32.28 61.09 65.83 65.97 28.81 33.56 33.69  4.75  4.88  0.14]]\n",
      "(155, 182) [[  1.18   2.21   2.34   2.39   1.87   1.98   2.02   1.06   1.08   1.02]\n",
      " [ 75.14 136.   130.34 143.15 148.86 154.52 141.71   5.65   7.15  12.81]]\n",
      "(257, 126) [[  1.22   1.47   1.57   1.67   1.21   1.29   1.37   1.07   1.13   1.06]\n",
      " [  1.78  15.81  92.75  17.72  14.04  94.53  15.95 108.56   1.91 110.47]]\n"
     ]
    }
   ],
   "source": [
    "fm.images[0].profile\n",
    "for x, y in fm.images[0].profile.items():\n",
    "  print(x, y)\n",
    "# display_image(fm.images[0].image_enhanced)\n",
    "# plot_minutiae(fm.images[0].image_enhanced, fm.images[0].minutiae, size = 8)"
   ]
  },
  {
   "cell_type": "code",
   "execution_count": 5,
   "metadata": {},
   "outputs": [
    {
     "name": "stdout",
     "output_type": "stream",
     "text": [
      "Termination: 15, 153\n"
     ]
    },
    {
     "data": {
      "image/png": "[encoded data removed]",
      "text/plain": [
       "<Figure size 432x288 with 1 Axes>"
      ]
     },
     "metadata": {},
     "output_type": "display_data"
    },
    {
     "name": "stdout",
     "output_type": "stream",
     "text": [
      "Termination: 16, 160\n"
     ]
    },
    {
     "data": {
      "image/png": "[encoded data removed]",
      "text/plain": [
       "<Figure size 432x288 with 1 Axes>"
      ]
     },
     "metadata": {},
     "output_type": "display_data"
    },
    {
     "name": "stdout",
     "output_type": "stream",
     "text": [
      "Termination: 20, 110\n"
     ]
    },
    {
     "data": {
      "image/png": "[encoded data removed]",
      "text/plain": [
       "<Figure size 432x288 with 1 Axes>"
      ]
     },
     "metadata": {},
     "output_type": "display_data"
    },
    {
     "name": "stdout",
     "output_type": "stream",
     "text": [
      "Termination: 22, 100\n"
     ]
    },
    {
     "data": {
      "image/png": "[encoded data removed]",
      "text/plain": [
       "<Figure size 432x288 with 1 Axes>"
      ]
     },
     "metadata": {},
     "output_type": "display_data"
    },
    {
     "name": "stdout",
     "output_type": "stream",
     "text": [
      "Termination: 23, 108\n"
     ]
    },
    {
     "data": {
      "image/png": "[encoded data removed]",
      "text/plain": [
       "<Figure size 432x288 with 1 Axes>"
      ]
     },
     "metadata": {},
     "output_type": "display_data"
    },
    {
     "name": "stdout",
     "output_type": "stream",
     "text": [
      "Termination: 23, 161\n"
     ]
    },
    {
     "data": {
      "image/png": "[encoded data removed]",
      "text/plain": [
       "<Figure size 432x288 with 1 Axes>"
      ]
     },
     "metadata": {},
     "output_type": "display_data"
    },
    {
     "name": "stdout",
     "output_type": "stream",
     "text": [
      "Termination: 25, 96\n"
     ]
    },
    {
     "data": {
      "image/png": "[encoded data removed]",
      "text/plain": [
       "<Figure size 432x288 with 1 Axes>"
      ]
     },
     "metadata": {},
     "output_type": "display_data"
    },
    {
     "name": "stdout",
     "output_type": "stream",
     "text": [
      "Termination: 26, 89\n"
     ]
    },
    {
     "data": {
      "image/png": "[encoded data removed]",
      "text/plain": [
       "<Figure size 432x288 with 1 Axes>"
      ]
     },
     "metadata": {},
     "output_type": "display_data"
    },
    {
     "name": "stdout",
     "output_type": "stream",
     "text": [
      "Termination: 27, 171\n"
     ]
    },
    {
     "data": {
      "image/png": "[encoded data removed]",
      "text/plain": [
       "<Figure size 432x288 with 1 Axes>"
      ]
     },
     "metadata": {},
     "output_type": "display_data"
    },
    {
     "name": "stdout",
     "output_type": "stream",
     "text": [
      "Termination: 34, 80\n"
     ]
    },
    {
     "data": {
      "image/png": "[encoded data removed]",
      "text/plain": [
       "<Figure size 432x288 with 1 Axes>"
      ]
     },
     "metadata": {},
     "output_type": "display_data"
    },
    {
     "name": "stdout",
     "output_type": "stream",
     "text": [
      "Termination: 37, 182\n"
     ]
    },
    {
     "data": {
      "image/png": "[encoded data removed]",
      "text/plain": [
       "<Figure size 432x288 with 1 Axes>"
      ]
     },
     "metadata": {},
     "output_type": "display_data"
    },
    {
     "name": "stdout",
     "output_type": "stream",
     "text": [
      "Termination: 43, 75\n"
     ]
    },
    {
     "data": {
      "image/png": "[encoded data removed]",
      "text/plain": [
       "<Figure size 432x288 with 1 Axes>"
      ]
     },
     "metadata": {},
     "output_type": "display_data"
    },
    {
     "name": "stdout",
     "output_type": "stream",
     "text": [
      "Termination: 46, 186\n"
     ]
    },
    {
     "data": {
      "image/png": "[encoded data removed]",
      "text/plain": [
       "<Figure size 432x288 with 1 Axes>"
      ]
     },
     "metadata": {},
     "output_type": "display_data"
    },
    {
     "name": "stdout",
     "output_type": "stream",
     "text": [
      "Termination: 52, 70\n"
     ]
    },
    {
     "data": {
      "image/png": "[encoded data removed]",
      "text/plain": [
       "<Figure size 432x288 with 1 Axes>"
      ]
     },
     "metadata": {},
     "output_type": "display_data"
    },
    {
     "name": "stdout",
     "output_type": "stream",
     "text": [
      "Termination: 52, 178\n"
     ]
    },
    {
     "data": {
      "image/png": "[encoded data removed]",
      "text/plain": [
       "<Figure size 432x288 with 1 Axes>"
      ]
     },
     "metadata": {},
     "output_type": "display_data"
    },
    {
     "name": "stdout",
     "output_type": "stream",
     "text": [
      "Termination: 52, 190\n"
     ]
    },
    {
     "data": {
      "image/png": "[encoded data removed]",
      "text/plain": [
       "<Figure size 432x288 with 1 Axes>"
      ]
     },
     "metadata": {},
     "output_type": "display_data"
    },
    {
     "name": "stdout",
     "output_type": "stream",
     "text": [
      "Termination: 58, 64\n"
     ]
    },
    {
     "data": {
      "image/png": "[encoded data removed]",
      "text/plain": [
       "<Figure size 432x288 with 1 Axes>"
      ]
     },
     "metadata": {},
     "output_type": "display_data"
    },
    {
     "name": "stdout",
     "output_type": "stream",
     "text": [
      "Termination: 59, 189\n"
     ]
    },
    {
     "data": {
      "image/png": "[encoded data removed]",
      "text/plain": [
       "<Figure size 432x288 with 1 Axes>"
      ]
     },
     "metadata": {},
     "output_type": "display_data"
    },
    {
     "name": "stdout",
     "output_type": "stream",
     "text": [
      "Termination: 64, 90\n"
     ]
    },
    {
     "data": {
      "image/png": "[encoded data removed]",
      "text/plain": [
       "<Figure size 432x288 with 1 Axes>"
      ]
     },
     "metadata": {},
     "output_type": "display_data"
    },
    {
     "name": "stdout",
     "output_type": "stream",
     "text": [
      "Termination: 67, 187\n"
     ]
    },
    {
     "data": {
      "image/png": "[encoded data removed]",
      "text/plain": [
       "<Figure size 432x288 with 1 Axes>"
      ]
     },
     "metadata": {},
     "output_type": "display_data"
    },
    {
     "name": "stdout",
     "output_type": "stream",
     "text": [
      "Termination: 70, 58\n"
     ]
    },
    {
     "data": {
      "image/png": "[encoded data removed]",
      "text/plain": [
       "<Figure size 432x288 with 1 Axes>"
      ]
     },
     "metadata": {},
     "output_type": "display_data"
    },
    {
     "name": "stdout",
     "output_type": "stream",
     "text": [
      "Termination: 72, 193\n"
     ]
    },
    {
     "data": {
      "image/png": "[encoded data removed]",
      "text/plain": [
       "<Figure size 432x288 with 1 Axes>"
      ]
     },
     "metadata": {},
     "output_type": "display_data"
    },
    {
     "name": "stdout",
     "output_type": "stream",
     "text": [
      "Termination: 72, 200\n"
     ]
    },
    {
     "data": {
      "image/png": "[encoded data removed]",
      "text/plain": [
       "<Figure size 432x288 with 1 Axes>"
      ]
     },
     "metadata": {},
     "output_type": "display_data"
    },
    {
     "name": "stdout",
     "output_type": "stream",
     "text": [
      "Termination: 73, 197\n"
     ]
    },
    {
     "data": {
      "image/png": "[encoded data removed]",
      "text/plain": [
       "<Figure size 432x288 with 1 Axes>"
      ]
     },
     "metadata": {},
     "output_type": "display_data"
    },
    {
     "name": "stdout",
     "output_type": "stream",
     "text": [
      "Termination: 74, 100\n"
     ]
    },
    {
     "data": {
      "image/png": "[encoded data removed]",
      "text/plain": [
       "<Figure size 432x288 with 1 Axes>"
      ]
     },
     "metadata": {},
     "output_type": "display_data"
    },
    {
     "name": "stdout",
     "output_type": "stream",
     "text": [
      "Termination: 75, 206\n"
     ]
    },
    {
     "data": {
      "image/png": "[encoded data removed]",
      "text/plain": [
       "<Figure size 432x288 with 1 Axes>"
      ]
     },
     "metadata": {},
     "output_type": "display_data"
    },
    {
     "name": "stdout",
     "output_type": "stream",
     "text": [
      "Termination: 76, 61\n"
     ]
    },
    {
     "data": {
      "image/png": "[encoded data removed]",
      "text/plain": [
       "<Figure size 432x288 with 1 Axes>"
      ]
     },
     "metadata": {},
     "output_type": "display_data"
    },
    {
     "name": "stdout",
     "output_type": "stream",
     "text": [
      "Termination: 80, 80\n"
     ]
    },
    {
     "data": {
      "image/png": "[encoded data removed]",
      "text/plain": [
       "<Figure size 432x288 with 1 Axes>"
      ]
     },
     "metadata": {},
     "output_type": "display_data"
    },
    {
     "name": "stdout",
     "output_type": "stream",
     "text": [
      "Termination: 81, 54\n"
     ]
    },
    {
     "data": {
      "image/png": "[encoded data removed]",
      "text/plain": [
       "<Figure size 432x288 with 1 Axes>"
      ]
     },
     "metadata": {},
     "output_type": "display_data"
    },
    {
     "name": "stdout",
     "output_type": "stream",
     "text": [
      "Termination: 84, 60\n"
     ]
    },
    {
     "data": {
      "image/png": "[encoded data removed]",
      "text/plain": [
       "<Figure size 432x288 with 1 Axes>"
      ]
     },
     "metadata": {},
     "output_type": "display_data"
    },
    {
     "name": "stdout",
     "output_type": "stream",
     "text": [
      "Termination: 87, 100\n"
     ]
    },
    {
     "data": {
      "image/png": "[encoded data removed]",
      "text/plain": [
       "<Figure size 432x288 with 1 Axes>"
      ]
     },
     "metadata": {},
     "output_type": "display_data"
    },
    {
     "name": "stdout",
     "output_type": "stream",
     "text": [
      "Termination: 90, 215\n"
     ]
    },
    {
     "data": {
      "image/png": "[encoded data removed]",
      "text/plain": [
       "<Figure size 432x288 with 1 Axes>"
      ]
     },
     "metadata": {},
     "output_type": "display_data"
    },
    {
     "name": "stdout",
     "output_type": "stream",
     "text": [
      "Termination: 96, 213\n"
     ]
    },
    {
     "data": {
      "image/png": "[encoded data removed]",
      "text/plain": [
       "<Figure size 432x288 with 1 Axes>"
      ]
     },
     "metadata": {},
     "output_type": "display_data"
    },
    {
     "name": "stdout",
     "output_type": "stream",
     "text": [
      "Termination: 98, 49\n"
     ]
    },
    {
     "data": {
      "image/png": "[encoded data removed]",
      "text/plain": [
       "<Figure size 432x288 with 1 Axes>"
      ]
     },
     "metadata": {},
     "output_type": "display_data"
    },
    {
     "name": "stdout",
     "output_type": "stream",
     "text": [
      "Termination: 100, 128\n"
     ]
    },
    {
     "data": {
      "image/png": "[encoded data removed]",
      "text/plain": [
       "<Figure size 432x288 with 1 Axes>"
      ]
     },
     "metadata": {},
     "output_type": "display_data"
    },
    {
     "name": "stdout",
     "output_type": "stream",
     "text": [
      "Termination: 105, 53\n"
     ]
    },
    {
     "data": {
      "image/png": "[encoded data removed]",
      "text/plain": [
       "<Figure size 432x288 with 1 Axes>"
      ]
     },
     "metadata": {},
     "output_type": "display_data"
    },
    {
     "name": "stdout",
     "output_type": "stream",
     "text": [
      "Termination: 108, 221\n"
     ]
    },
    {
     "data": {
      "image/png": "[encoded data removed]",
      "text/plain": [
       "<Figure size 432x288 with 1 Axes>"
      ]
     },
     "metadata": {},
     "output_type": "display_data"
    },
    {
     "name": "stdout",
     "output_type": "stream",
     "text": [
      "Termination: 116, 41\n"
     ]
    },
    {
     "data": {
      "image/png": "[encoded data removed]",
      "text/plain": [
       "<Figure size 432x288 with 1 Axes>"
      ]
     },
     "metadata": {},
     "output_type": "display_data"
    },
    {
     "name": "stdout",
     "output_type": "stream",
     "text": [
      "Termination: 117, 217\n"
     ]
    },
    {
     "data": {
      "image/png": "[encoded data removed]",
      "text/plain": [
       "<Figure size 432x288 with 1 Axes>"
      ]
     },
     "metadata": {},
     "output_type": "display_data"
    },
    {
     "name": "stdout",
     "output_type": "stream",
     "text": [
      "Termination: 120, 38\n"
     ]
    },
    {
     "data": {
      "image/png": "[encoded data removed]",
      "text/plain": [
       "<Figure size 432x288 with 1 Axes>"
      ]
     },
     "metadata": {},
     "output_type": "display_data"
    },
    {
     "name": "stdout",
     "output_type": "stream",
     "text": [
      "Termination: 125, 43\n"
     ]
    },
    {
     "data": {
      "image/png": "[encoded data removed]",
      "text/plain": [
       "<Figure size 432x288 with 1 Axes>"
      ]
     },
     "metadata": {},
     "output_type": "display_data"
    },
    {
     "name": "stdout",
     "output_type": "stream",
     "text": [
      "Termination: 134, 42\n"
     ]
    },
    {
     "data": {
      "image/png": "[encoded data removed]",
      "text/plain": [
       "<Figure size 432x288 with 1 Axes>"
      ]
     },
     "metadata": {},
     "output_type": "display_data"
    },
    {
     "name": "stdout",
     "output_type": "stream",
     "text": [
      "Termination: 135, 225\n"
     ]
    },
    {
     "data": {
      "image/png": "[encoded data removed]",
      "text/plain": [
       "<Figure size 432x288 with 1 Axes>"
      ]
     },
     "metadata": {},
     "output_type": "display_data"
    },
    {
     "name": "stdout",
     "output_type": "stream",
     "text": [
      "Termination: 146, 75\n"
     ]
    },
    {
     "data": {
      "image/png": "[encoded data removed]",
      "text/plain": [
       "<Figure size 432x288 with 1 Axes>"
      ]
     },
     "metadata": {},
     "output_type": "display_data"
    },
    {
     "name": "stdout",
     "output_type": "stream",
     "text": [
      "Termination: 146, 225\n"
     ]
    },
    {
     "data": {
      "image/png": "[encoded data removed]",
      "text/plain": [
       "<Figure size 432x288 with 1 Axes>"
      ]
     },
     "metadata": {},
     "output_type": "display_data"
    },
    {
     "name": "stdout",
     "output_type": "stream",
     "text": [
      "Termination: 147, 37\n"
     ]
    },
    {
     "data": {
      "image/png": "[encoded data removed]",
      "text/plain": [
       "<Figure size 432x288 with 1 Axes>"
      ]
     },
     "metadata": {},
     "output_type": "display_data"
    },
    {
     "name": "stdout",
     "output_type": "stream",
     "text": [
      "Termination: 151, 42\n"
     ]
    },
    {
     "data": {
      "image/png": "[encoded data removed]",
      "text/plain": [
       "<Figure size 432x288 with 1 Axes>"
      ]
     },
     "metadata": {},
     "output_type": "display_data"
    },
    {
     "name": "stdout",
     "output_type": "stream",
     "text": [
      "Termination: 161, 210\n"
     ]
    },
    {
     "data": {
      "image/png": "[encoded data removed]",
      "text/plain": [
       "<Figure size 432x288 with 1 Axes>"
      ]
     },
     "metadata": {},
     "output_type": "display_data"
    },
    {
     "name": "stdout",
     "output_type": "stream",
     "text": [
      "Termination: 165, 37\n"
     ]
    },
    {
     "data": {
      "image/png": "[encoded data removed]",
      "text/plain": [
       "<Figure size 432x288 with 1 Axes>"
      ]
     },
     "metadata": {},
     "output_type": "display_data"
    },
    {
     "name": "stdout",
     "output_type": "stream",
     "text": [
      "Termination: 171, 161\n"
     ]
    },
    {
     "data": {
      "image/png": "[encoded data removed]",
      "text/plain": [
       "<Figure size 432x288 with 1 Axes>"
      ]
     },
     "metadata": {},
     "output_type": "display_data"
    },
    {
     "name": "stdout",
     "output_type": "stream",
     "text": [
      "Termination: 171, 225\n"
     ]
    },
    {
     "data": {
      "image/png": "[encoded data removed]",
      "text/plain": [
       "<Figure size 432x288 with 1 Axes>"
      ]
     },
     "metadata": {},
     "output_type": "display_data"
    },
    {
     "name": "stdout",
     "output_type": "stream",
     "text": [
      "Termination: 176, 162\n"
     ]
    },
    {
     "data": {
      "image/png": "[encoded data removed]",
      "text/plain": [
       "<Figure size 432x288 with 1 Axes>"
      ]
     },
     "metadata": {},
     "output_type": "display_data"
    },
    {
     "name": "stdout",
     "output_type": "stream",
     "text": [
      "Termination: 177, 158\n"
     ]
    },
    {
     "data": {
      "image/png": "[encoded data removed]",
      "text/plain": [
       "<Figure size 432x288 with 1 Axes>"
      ]
     },
     "metadata": {},
     "output_type": "display_data"
    },
    {
     "name": "stdout",
     "output_type": "stream",
     "text": [
      "Termination: 178, 163\n"
     ]
    },
    {
     "data": {
      "image/png": "[encoded data removed]",
      "text/plain": [
       "<Figure size 432x288 with 1 Axes>"
      ]
     },
     "metadata": {},
     "output_type": "display_data"
    },
    {
     "name": "stdout",
     "output_type": "stream",
     "text": [
      "Termination: 179, 43\n"
     ]
    },
    {
     "data": {
      "image/png": "[encoded data removed]",
      "text/plain": [
       "<Figure size 432x288 with 1 Axes>"
      ]
     },
     "metadata": {},
     "output_type": "display_data"
    },
    {
     "name": "stdout",
     "output_type": "stream",
     "text": [
      "Termination: 179, 51\n"
     ]
    },
    {
     "data": {
      "image/png": "[encoded data removed]",
      "text/plain": [
       "<Figure size 432x288 with 1 Axes>"
      ]
     },
     "metadata": {},
     "output_type": "display_data"
    },
    {
     "name": "stdout",
     "output_type": "stream",
     "text": [
      "Bifurcation: 179, 169\n"
     ]
    },
    {
     "data": {
      "image/png": "[encoded data removed]",
      "text/plain": [
       "<Figure size 432x288 with 1 Axes>"
      ]
     },
     "metadata": {},
     "output_type": "display_data"
    },
    {
     "name": "stdout",
     "output_type": "stream",
     "text": [
      "Bifurcation: 181, 152\n"
     ]
    },
    {
     "data": {
      "image/png": "[encoded data removed]",
      "text/plain": [
       "<Figure size 432x288 with 1 Axes>"
      ]
     },
     "metadata": {},
     "output_type": "display_data"
    },
    {
     "name": "stdout",
     "output_type": "stream",
     "text": [
      "Termination: 183, 42\n"
     ]
    },
    {
     "data": {
      "image/png": "[encoded data removed]",
      "text/plain": [
       "<Figure size 432x288 with 1 Axes>"
      ]
     },
     "metadata": {},
     "output_type": "display_data"
    },
    {
     "name": "stdout",
     "output_type": "stream",
     "text": [
      "Termination: 183, 66\n"
     ]
    },
    {
     "data": {
      "image/png": "[encoded data removed]",
      "text/plain": [
       "<Figure size 432x288 with 1 Axes>"
      ]
     },
     "metadata": {},
     "output_type": "display_data"
    },
    {
     "name": "stdout",
     "output_type": "stream",
     "text": [
      "Termination: 189, 158\n"
     ]
    },
    {
     "data": {
      "image/png": "[encoded data removed]",
      "text/plain": [
       "<Figure size 432x288 with 1 Axes>"
      ]
     },
     "metadata": {},
     "output_type": "display_data"
    },
    {
     "name": "stdout",
     "output_type": "stream",
     "text": [
      "Termination: 191, 37\n"
     ]
    },
    {
     "data": {
      "image/png": "[encoded data removed]",
      "text/plain": [
       "<Figure size 432x288 with 1 Axes>"
      ]
     },
     "metadata": {},
     "output_type": "display_data"
    },
    {
     "name": "stdout",
     "output_type": "stream",
     "text": [
      "Termination: 192, 161\n"
     ]
    },
    {
     "data": {
      "image/png": "[encoded data removed]",
      "text/plain": [
       "<Figure size 432x288 with 1 Axes>"
      ]
     },
     "metadata": {},
     "output_type": "display_data"
    },
    {
     "name": "stdout",
     "output_type": "stream",
     "text": [
      "Termination: 194, 155\n"
     ]
    },
    {
     "data": {
      "image/png": "[encoded data removed]",
      "text/plain": [
       "<Figure size 432x288 with 1 Axes>"
      ]
     },
     "metadata": {},
     "output_type": "display_data"
    },
    {
     "name": "stdout",
     "output_type": "stream",
     "text": [
      "Bifurcation: 199, 63\n"
     ]
    },
    {
     "data": {
      "image/png": "[encoded data removed]",
      "text/plain": [
       "<Figure size 432x288 with 1 Axes>"
      ]
     },
     "metadata": {},
     "output_type": "display_data"
    },
    {
     "name": "stdout",
     "output_type": "stream",
     "text": [
      "Termination: 206, 34\n"
     ]
    },
    {
     "data": {
      "image/png": "[encoded data removed]",
      "text/plain": [
       "<Figure size 432x288 with 1 Axes>"
      ]
     },
     "metadata": {},
     "output_type": "display_data"
    },
    {
     "name": "stdout",
     "output_type": "stream",
     "text": [
      "Termination: 211, 38\n"
     ]
    },
    {
     "data": {
      "image/png": "[encoded data removed]",
      "text/plain": [
       "<Figure size 432x288 with 1 Axes>"
      ]
     },
     "metadata": {},
     "output_type": "display_data"
    },
    {
     "name": "stdout",
     "output_type": "stream",
     "text": [
      "Termination: 223, 36\n"
     ]
    },
    {
     "data": {
      "image/png": "[encoded data removed]",
      "text/plain": [
       "<Figure size 432x288 with 1 Axes>"
      ]
     },
     "metadata": {},
     "output_type": "display_data"
    },
    {
     "name": "stdout",
     "output_type": "stream",
     "text": [
      "Termination: 233, 36\n"
     ]
    },
    {
     "data": {
      "image/png": "[encoded data removed]",
      "text/plain": [
       "<Figure size 432x288 with 1 Axes>"
      ]
     },
     "metadata": {},
     "output_type": "display_data"
    },
    {
     "name": "stdout",
     "output_type": "stream",
     "text": [
      "Termination: 233, 48\n"
     ]
    },
    {
     "data": {
      "image/png": "[encoded data removed]",
      "text/plain": [
       "<Figure size 432x288 with 1 Axes>"
      ]
     },
     "metadata": {},
     "output_type": "display_data"
    },
    {
     "name": "stdout",
     "output_type": "stream",
     "text": [
      "Termination: 235, 206\n"
     ]
    },
    {
     "data": {
      "image/png": "[encoded data removed]",
      "text/plain": [
       "<Figure size 432x288 with 1 Axes>"
      ]
     },
     "metadata": {},
     "output_type": "display_data"
    },
    {
     "name": "stdout",
     "output_type": "stream",
     "text": [
      "Termination: 237, 225\n"
     ]
    },
    {
     "data": {
      "image/png": "[encoded data removed]",
      "text/plain": [
       "<Figure size 432x288 with 1 Axes>"
      ]
     },
     "metadata": {},
     "output_type": "display_data"
    },
    {
     "name": "stdout",
     "output_type": "stream",
     "text": [
      "Termination: 246, 131\n"
     ]
    },
    {
     "data": {
      "image/png": "[encoded data removed]",
      "text/plain": [
       "<Figure size 432x288 with 1 Axes>"
      ]
     },
     "metadata": {},
     "output_type": "display_data"
    },
    {
     "name": "stdout",
     "output_type": "stream",
     "text": [
      "Termination: 250, 128\n"
     ]
    },
    {
     "data": {
      "image/png": "[encoded data removed]",
      "text/plain": [
       "<Figure size 432x288 with 1 Axes>"
      ]
     },
     "metadata": {},
     "output_type": "display_data"
    },
    {
     "name": "stdout",
     "output_type": "stream",
     "text": [
      "Termination: 251, 42\n"
     ]
    },
    {
     "data": {
      "image/png": "[encoded data removed]",
      "text/plain": [
       "<Figure size 432x288 with 1 Axes>"
      ]
     },
     "metadata": {},
     "output_type": "display_data"
    },
    {
     "name": "stdout",
     "output_type": "stream",
     "text": [
      "Termination: 260, 44\n"
     ]
    },
    {
     "data": {
      "image/png": "[encoded data removed]",
      "text/plain": [
       "<Figure size 432x288 with 1 Axes>"
      ]
     },
     "metadata": {},
     "output_type": "display_data"
    },
    {
     "name": "stdout",
     "output_type": "stream",
     "text": [
      "Termination: 266, 50\n"
     ]
    },
    {
     "data": {
      "image/png": "[encoded data removed]",
      "text/plain": [
       "<Figure size 432x288 with 1 Axes>"
      ]
     },
     "metadata": {},
     "output_type": "display_data"
    },
    {
     "name": "stdout",
     "output_type": "stream",
     "text": [
      "Termination: 271, 148\n"
     ]
    },
    {
     "data": {
      "image/png": "[encoded data removed]",
      "text/plain": [
       "<Figure size 432x288 with 1 Axes>"
      ]
     },
     "metadata": {},
     "output_type": "display_data"
    },
    {
     "name": "stdout",
     "output_type": "stream",
     "text": [
      "Termination: 272, 53\n"
     ]
    },
    {
     "data": {
      "image/png": "[encoded data removed]",
      "text/plain": [
       "<Figure size 432x288 with 1 Axes>"
      ]
     },
     "metadata": {},
     "output_type": "display_data"
    },
    {
     "name": "stdout",
     "output_type": "stream",
     "text": [
      "Termination: 278, 59\n"
     ]
    },
    {
     "data": {
      "image/png": "[encoded data removed]",
      "text/plain": [
       "<Figure size 432x288 with 1 Axes>"
      ]
     },
     "metadata": {},
     "output_type": "display_data"
    },
    {
     "name": "stdout",
     "output_type": "stream",
     "text": [
      "Termination: 281, 213\n"
     ]
    },
    {
     "data": {
      "image/png": "[encoded data removed]",
      "text/plain": [
       "<Figure size 432x288 with 1 Axes>"
      ]
     },
     "metadata": {},
     "output_type": "display_data"
    },
    {
     "name": "stdout",
     "output_type": "stream",
     "text": [
      "Termination: 284, 66\n"
     ]
    },
    {
     "data": {
      "image/png": "[encoded data removed]",
      "text/plain": [
       "<Figure size 432x288 with 1 Axes>"
      ]
     },
     "metadata": {},
     "output_type": "display_data"
    },
    {
     "name": "stdout",
     "output_type": "stream",
     "text": [
      "Termination: 284, 73\n"
     ]
    },
    {
     "data": {
      "image/png": "[encoded data removed]",
      "text/plain": [
       "<Figure size 432x288 with 1 Axes>"
      ]
     },
     "metadata": {},
     "output_type": "display_data"
    },
    {
     "name": "stdout",
     "output_type": "stream",
     "text": [
      "Termination: 284, 78\n"
     ]
    },
    {
     "data": {
      "image/png": "[encoded data removed]",
      "text/plain": [
       "<Figure size 432x288 with 1 Axes>"
      ]
     },
     "metadata": {},
     "output_type": "display_data"
    },
    {
     "name": "stdout",
     "output_type": "stream",
     "text": [
      "Termination: 284, 201\n"
     ]
    },
    {
     "data": {
      "image/png": "[encoded data removed]",
      "text/plain": [
       "<Figure size 432x288 with 1 Axes>"
      ]
     },
     "metadata": {},
     "output_type": "display_data"
    },
    {
     "name": "stdout",
     "output_type": "stream",
     "text": [
      "Termination: 288, 206\n"
     ]
    },
    {
     "data": {
      "image/png": "[encoded data removed]",
      "text/plain": [
       "<Figure size 432x288 with 1 Axes>"
      ]
     },
     "metadata": {},
     "output_type": "display_data"
    },
    {
     "name": "stdout",
     "output_type": "stream",
     "text": [
      "Termination: 292, 165\n"
     ]
    },
    {
     "data": {
      "image/png": "[encoded data removed]",
      "text/plain": [
       "<Figure size 432x288 with 1 Axes>"
      ]
     },
     "metadata": {},
     "output_type": "display_data"
    },
    {
     "name": "stdout",
     "output_type": "stream",
     "text": [
      "Termination: 293, 66\n"
     ]
    },
    {
     "data": {
      "image/png": "[encoded data removed]",
      "text/plain": [
       "<Figure size 432x288 with 1 Axes>"
      ]
     },
     "metadata": {},
     "output_type": "display_data"
    },
    {
     "name": "stdout",
     "output_type": "stream",
     "text": [
      "Termination: 293, 78\n"
     ]
    },
    {
     "data": {
      "image/png": "[encoded data removed]",
      "text/plain": [
       "<Figure size 432x288 with 1 Axes>"
      ]
     },
     "metadata": {},
     "output_type": "display_data"
    },
    {
     "name": "stdout",
     "output_type": "stream",
     "text": [
      "Termination: 295, 84\n"
     ]
    },
    {
     "data": {
      "image/png": "[encoded data removed]",
      "text/plain": [
       "<Figure size 432x288 with 1 Axes>"
      ]
     },
     "metadata": {},
     "output_type": "display_data"
    },
    {
     "name": "stdout",
     "output_type": "stream",
     "text": [
      "Termination: 299, 182\n"
     ]
    },
    {
     "data": {
      "image/png": "[encoded data removed]",
      "text/plain": [
       "<Figure size 432x288 with 1 Axes>"
      ]
     },
     "metadata": {},
     "output_type": "display_data"
    },
    {
     "name": "stdout",
     "output_type": "stream",
     "text": [
      "Termination: 301, 175\n"
     ]
    },
    {
     "data": {
      "image/png": "[encoded data removed]",
      "text/plain": [
       "<Figure size 432x288 with 1 Axes>"
      ]
     },
     "metadata": {},
     "output_type": "display_data"
    },
    {
     "name": "stdout",
     "output_type": "stream",
     "text": [
      "Termination: 302, 87\n"
     ]
    },
    {
     "data": {
      "image/png": "[encoded data removed]",
      "text/plain": [
       "<Figure size 432x288 with 1 Axes>"
      ]
     },
     "metadata": {},
     "output_type": "display_data"
    },
    {
     "name": "stdout",
     "output_type": "stream",
     "text": [
      "Termination: 305, 93\n"
     ]
    },
    {
     "data": {
      "image/png": "[encoded data removed]",
      "text/plain": [
       "<Figure size 432x288 with 1 Axes>"
      ]
     },
     "metadata": {},
     "output_type": "display_data"
    },
    {
     "name": "stdout",
     "output_type": "stream",
     "text": [
      "Termination: 305, 105\n"
     ]
    },
    {
     "data": {
      "image/png": "[encoded data removed]",
      "text/plain": [
       "<Figure size 432x288 with 1 Axes>"
      ]
     },
     "metadata": {},
     "output_type": "display_data"
    },
    {
     "name": "stdout",
     "output_type": "stream",
     "text": [
      "Termination: 305, 116\n"
     ]
    },
    {
     "data": {
      "image/png": "[encoded data removed]",
      "text/plain": [
       "<Figure size 432x288 with 1 Axes>"
      ]
     },
     "metadata": {},
     "output_type": "display_data"
    },
    {
     "name": "stdout",
     "output_type": "stream",
     "text": [
      "Termination: 305, 128\n"
     ]
    },
    {
     "data": {
      "image/png": "[encoded data removed]",
      "text/plain": [
       "<Figure size 432x288 with 1 Axes>"
      ]
     },
     "metadata": {},
     "output_type": "display_data"
    },
    {
     "name": "stdout",
     "output_type": "stream",
     "text": [
      "Termination: 305, 142\n"
     ]
    },
    {
     "data": {
      "image/png": "[encoded data removed]",
      "text/plain": [
       "<Figure size 432x288 with 1 Axes>"
      ]
     },
     "metadata": {},
     "output_type": "display_data"
    },
    {
     "name": "stdout",
     "output_type": "stream",
     "text": [
      "Termination: 305, 153\n"
     ]
    },
    {
     "data": {
      "image/png": "[encoded data removed]",
      "text/plain": [
       "<Figure size 432x288 with 1 Axes>"
      ]
     },
     "metadata": {},
     "output_type": "display_data"
    },
    {
     "name": "stdout",
     "output_type": "stream",
     "text": [
      "Termination: 305, 168\n"
     ]
    },
    {
     "data": {
      "image/png": "[encoded data removed]",
      "text/plain": [
       "<Figure size 432x288 with 1 Axes>"
      ]
     },
     "metadata": {},
     "output_type": "display_data"
    },
    {
     "name": "stdout",
     "output_type": "stream",
     "text": [
      "0 , (52, 178)\n",
      "1 , (64, 90)\n",
      "2 , (74, 100)\n",
      "3 , (76, 61)\n",
      "4 , (80, 80)\n",
      "5 , (87, 100)\n",
      "6 , (100, 128)\n",
      "7 , (146, 75)\n",
      "8 , (161, 210)\n",
      "9 , (171, 161)\n",
      "10 , (176, 162)\n",
      "11 , (177, 158)\n",
      "12 , (178, 163)\n",
      "13 , (179, 51)\n",
      "14 , (183, 66)\n",
      "15 , (189, 158)\n",
      "16 , (192, 161)\n",
      "17 , (194, 155)\n",
      "18 , (233, 48)\n",
      "19 , (235, 206)\n",
      "20 , (246, 131)\n",
      "21 , (250, 128)\n",
      "22 , (271, 148)\n",
      "23 , (284, 78)\n",
      "24 , (292, 165)\n",
      "25 , (179, 169)\n",
      "26 , (181, 152)\n",
      "27 , (199, 63)\n",
      "INFO: Score - 0.0\n",
      "Not a match with 105_6\n",
      "INFO: Score - 0.021052631578947368\n",
      "Not a match with 110_6\n",
      "INFO: Score - 0.0\n",
      "Not a match with 109_6\n",
      "INFO: Score - 0.0\n",
      "Not a match with 108_5\n",
      "INFO: Score - 0.0\n",
      "Not a match with 108_1\n",
      "INFO: Score - 0.0\n",
      "Not a match with 106_4\n",
      "INFO: Score - 0.0\n",
      "Not a match with 103_5\n",
      "INFO: Score - 0.0\n",
      "Not a match with 102_5\n",
      "INFO: Score - 0.0\n",
      "Not a match with 102_7\n",
      "INFO: Score - 0.0\n",
      "Not a match with 105_4\n",
      "INFO: Score - 0.0\n",
      "Not a match with 106_7\n",
      "INFO: Score - 0.0\n",
      "Not a match with 106_8\n",
      "INFO: Score - 0.0\n",
      "Not a match with 106_2\n",
      "INFO: Score - 0.0\n",
      "Not a match with 103_7\n",
      "INFO: Score - 0.0\n",
      "Not a match with 102_4\n",
      "INFO: Score - 0.0\n",
      "Not a match with 109_2\n",
      "INFO: Score - 0.0\n",
      "Not a match with 109_4\n",
      "INFO: Score - 0.0\n",
      "Not a match with 107_2\n",
      "INFO: Score - 0.0\n",
      "Not a match with 107_8\n",
      "INFO: Score - 0.0\n",
      "Not a match with 110_5\n",
      "INFO: Score - 0.0\n",
      "Not a match with 106_1\n",
      "INFO: Score - 0.0\n",
      "Not a match with 108_7\n",
      "INFO: Score - 0.0\n",
      "Not a match with 106_6\n",
      "INFO: Score - 0.0\n",
      "Not a match with 106_3\n",
      "INFO: Score - 0.0\n",
      "Not a match with 109_7\n",
      "INFO: Score - 0.0\n",
      "Not a match with 110_3\n",
      "INFO: Score - 0.0\n",
      "Not a match with 101_4\n",
      "INFO: Score - 0.0\n",
      "Not a match with 107_6\n",
      "INFO: Score - 0.0\n",
      "Not a match with 104_3\n",
      "INFO: Score - 0.0\n",
      "Not a match with 105_5\n",
      "INFO: Score - 0.0\n",
      "Not a match with 109_1\n",
      "INFO: Score - 0.0\n",
      "Not a match with 110_2\n",
      "INFO: Score - 0.0\n",
      "Not a match with 102_6\n",
      "INFO: Score - 0.0\n",
      "Not a match with 110_8\n",
      "INFO: Score - 0.0\n",
      "Not a match with 108_4\n",
      "INFO: Score - 0.0\n",
      "Not a match with 105_3\n",
      "INFO: Score - 0.0\n",
      "Not a match with 109_8\n",
      "INFO: Score - 0.0\n",
      "Not a match with 104_7\n",
      "INFO: Score - 0.0\n",
      "Not a match with 103_3\n",
      "INFO: Score - 0.0\n",
      "Not a match with 105_1\n",
      "INFO: Score - 0.0\n",
      "Not a match with 103_1\n",
      "INFO: Score - 0.0\n",
      "Not a match with 104_8\n",
      "INFO: Score - 0.0\n",
      "Not a match with 104_6\n",
      "INFO: Score - 0.0\n",
      "Not a match with 104_2\n",
      "INFO: Score - 0.0\n",
      "Not a match with 107_4\n",
      "INFO: Score - 0.0\n",
      "Not a match with 107_3\n",
      "INFO: Score - 0.0\n",
      "Not a match with 105_2\n",
      "INFO: Score - 0.0\n",
      "Not a match with 108_3\n",
      "INFO: Score - 0.0\n",
      "Not a match with 107_1\n",
      "INFO: Score - 0.0\n",
      "Not a match with 101_6\n",
      "INFO: Score - 0.0\n",
      "Not a match with 105_7\n",
      "INFO: Score - 0.0\n",
      "Not a match with 109_3\n",
      "INFO: Score - 0.0\n",
      "Not a match with 106_5\n",
      "INFO: Score - 0.0\n",
      "Not a match with 102_8\n",
      "INFO: Score - 0.0\n",
      "Not a match with 103_4\n",
      "INFO: Score - 0.0\n",
      "Not a match with 102_3\n",
      "INFO: Score - 0.0\n",
      "Not a match with 101_5\n",
      "INFO: Score - 0.0\n",
      "Not a match with 110_4\n",
      "INFO: Score - 0.0\n",
      "Not a match with 103_8\n",
      "INFO: Score - 0.0\n",
      "Not a match with 104_4\n",
      "INFO: Score - 0.0\n",
      "Not a match with 104_5\n",
      "INFO: Score - 0.0\n",
      "Not a match with 101_7\n",
      "INFO: Score - 0.0\n",
      "Not a match with 104_1\n",
      "INFO: Score - 0.0\n",
      "Not a match with 108_8\n",
      "INFO: Score - 0.0\n",
      "Not a match with 101_1\n",
      "INFO: Score - 0.0\n",
      "Not a match with 103_6\n",
      "INFO: Score - 0.0\n",
      "Not a match with 101_3\n",
      "INFO: Score - 0.0\n",
      "Not a match with 107_7\n",
      "INFO: Score - 0.0\n",
      "Not a match with 103_2\n",
      "INFO: Score - 0.0\n",
      "Not a match with 102_1\n",
      "INFO: Score - 0.0\n",
      "Not a match with 101_8\n",
      "INFO: Score - 0.0\n",
      "Not a match with 102_2\n",
      "INFO: Score - 0.0\n",
      "Not a match with 110_1\n",
      "INFO: Score - 0.010362694300518135\n",
      "Not a match with 110_7\n",
      "INFO: Score - 0.0\n",
      "Not a match with 108_6\n",
      "INFO: Score - 0.0\n",
      "Not a match with 108_2\n",
      "INFO: Score - 0.0\n",
      "Not a match with 101_2\n",
      "INFO: Score - 0.0\n",
      "Not a match with 107_5\n",
      "INFO: Score - 0.0\n",
      "Not a match with 109_5\n",
      "INFO: Score - 0.0\n",
      "Not a match with 105_8\n"
     ]
    }
   ],
   "source": [
    "scores = fm.matchFingerprint(img_test, verbose=False, )"
   ]
  }
 ],
 "metadata": {
  "interpreter": {
   "hash": "799216c8fcf023212c8180555d9f12b0e678cb1bf90d02621b665048ee5ee92c"
  },
  "kernelspec": {
   "display_name": "Python 3.9.10 64-bit",
   "language": "python",
   "name": "python3"
  },
  "language_info": {
   "codemirror_mode": {
    "name": "ipython",
    "version": 3
   },
   "file_extension": ".py",
   "mimetype": "text/x-python",
   "name": "python",
   "nbconvert_exporter": "python",
   "pygments_lexer": "ipython3",
   "version": "3.9.10"
  },
  "orig_nbformat": 4
 },
 "nbformat": 4,
 "nbformat_minor": 2
}
